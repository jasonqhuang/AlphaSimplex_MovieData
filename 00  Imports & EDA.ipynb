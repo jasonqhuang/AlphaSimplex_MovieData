{
 "cells": [
  {
   "cell_type": "markdown",
   "metadata": {},
   "source": [
    "# 00 Imports & EDA"
   ]
  },
  {
   "cell_type": "markdown",
   "metadata": {},
   "source": [
    "## Imports"
   ]
  },
  {
   "cell_type": "code",
   "execution_count": 1,
   "metadata": {},
   "outputs": [],
   "source": [
    "import os\n",
    "import pandas as pd\n",
    "import numpy as np\n",
    "import matplotlib.pyplot as plt\n",
    "from sklearn.preprocessing import StandardScaler\n",
    "import seaborn as sns"
   ]
  },
  {
   "cell_type": "code",
   "execution_count": 2,
   "metadata": {},
   "outputs": [],
   "source": [
    "# Defining column names via information from email. \n",
    "titles = ['name', 'country', 'ticket_price', 'avg_rating', 'genre']"
   ]
  },
  {
   "cell_type": "code",
   "execution_count": 3,
   "metadata": {},
   "outputs": [],
   "source": [
    "# Read in all excel files. \n",
    "data_828 = pd.read_excel('data/DataFile20200828.xlsx', header=None, names=titles)\n",
    "data_831 = pd.read_excel('data/DataFile20200831.xlsx', header=None, names=titles)\n",
    "data_901 = pd.read_excel('data/DataFile20200901.xlsx', header=None, names=titles)"
   ]
  },
  {
   "cell_type": "code",
   "execution_count": 4,
   "metadata": {},
   "outputs": [],
   "source": [
    "# Combine all datasets into one dataframe via pd.concat.\n",
    "data_combined = pd.concat([data_828, data_831, data_901], join='outer')"
   ]
  },
  {
   "cell_type": "code",
   "execution_count": 5,
   "metadata": {
    "scrolled": false
   },
   "outputs": [
    {
     "name": "stdout",
     "output_type": "stream",
     "text": [
      "<class 'pandas.core.frame.DataFrame'>\n",
      "Int64Index: 9999 entries, 0 to 3332\n",
      "Data columns (total 5 columns):\n",
      " #   Column        Non-Null Count  Dtype  \n",
      "---  ------        --------------  -----  \n",
      " 0   name          9999 non-null   object \n",
      " 1   country       9999 non-null   object \n",
      " 2   ticket_price  9900 non-null   float64\n",
      " 3   avg_rating    9999 non-null   float64\n",
      " 4   genre         9999 non-null   object \n",
      "dtypes: float64(2), object(3)\n",
      "memory usage: 468.7+ KB\n"
     ]
    }
   ],
   "source": [
    "data_combined.info()"
   ]
  },
  {
   "cell_type": "code",
   "execution_count": 6,
   "metadata": {},
   "outputs": [
    {
     "data": {
      "text/html": [
       "<div>\n",
       "<style scoped>\n",
       "    .dataframe tbody tr th:only-of-type {\n",
       "        vertical-align: middle;\n",
       "    }\n",
       "\n",
       "    .dataframe tbody tr th {\n",
       "        vertical-align: top;\n",
       "    }\n",
       "\n",
       "    .dataframe thead th {\n",
       "        text-align: right;\n",
       "    }\n",
       "</style>\n",
       "<table border=\"1\" class=\"dataframe\">\n",
       "  <thead>\n",
       "    <tr style=\"text-align: right;\">\n",
       "      <th></th>\n",
       "      <th>name</th>\n",
       "      <th>country</th>\n",
       "      <th>ticket_price</th>\n",
       "      <th>avg_rating</th>\n",
       "      <th>genre</th>\n",
       "    </tr>\n",
       "  </thead>\n",
       "  <tbody>\n",
       "    <tr>\n",
       "      <th>0</th>\n",
       "      <td>d19rpnckGv</td>\n",
       "      <td>Hyrule</td>\n",
       "      <td>1.0935</td>\n",
       "      <td>62.0000</td>\n",
       "      <td>SwordSmithing</td>\n",
       "    </tr>\n",
       "    <tr>\n",
       "      <th>1</th>\n",
       "      <td>KaWRtnToJC</td>\n",
       "      <td>Hyrule</td>\n",
       "      <td>0.7481</td>\n",
       "      <td>28.0000</td>\n",
       "      <td>SwordSmithing</td>\n",
       "    </tr>\n",
       "    <tr>\n",
       "      <th>2</th>\n",
       "      <td>fJkJTvK9pT</td>\n",
       "      <td>Middle-Earth</td>\n",
       "      <td>0.0437</td>\n",
       "      <td>38.4386</td>\n",
       "      <td>SwordSmithing</td>\n",
       "    </tr>\n",
       "    <tr>\n",
       "      <th>3</th>\n",
       "      <td>IbDBE8KYaU</td>\n",
       "      <td>Middle_Earth</td>\n",
       "      <td>0.0417</td>\n",
       "      <td>73.0533</td>\n",
       "      <td>SwordSmithing</td>\n",
       "    </tr>\n",
       "    <tr>\n",
       "      <th>4</th>\n",
       "      <td>sBRX9lLull</td>\n",
       "      <td>Hyrule</td>\n",
       "      <td>0.9455</td>\n",
       "      <td>57.3400</td>\n",
       "      <td>Spells</td>\n",
       "    </tr>\n",
       "    <tr>\n",
       "      <th>...</th>\n",
       "      <td>...</td>\n",
       "      <td>...</td>\n",
       "      <td>...</td>\n",
       "      <td>...</td>\n",
       "      <td>...</td>\n",
       "    </tr>\n",
       "    <tr>\n",
       "      <th>3328</th>\n",
       "      <td>NqQBsiArt</td>\n",
       "      <td>Genosha</td>\n",
       "      <td>131.5168</td>\n",
       "      <td>37.1521</td>\n",
       "      <td>SwordSmithing</td>\n",
       "    </tr>\n",
       "    <tr>\n",
       "      <th>3329</th>\n",
       "      <td>G6OInlu5F</td>\n",
       "      <td>Genosha</td>\n",
       "      <td>187.0604</td>\n",
       "      <td>77.8402</td>\n",
       "      <td>Spells</td>\n",
       "    </tr>\n",
       "    <tr>\n",
       "      <th>3330</th>\n",
       "      <td>f24B8j0ss</td>\n",
       "      <td>Hyrule</td>\n",
       "      <td>0.9642</td>\n",
       "      <td>69.5299</td>\n",
       "      <td>SwordSmithing</td>\n",
       "    </tr>\n",
       "    <tr>\n",
       "      <th>3331</th>\n",
       "      <td>kvGl6XnoF</td>\n",
       "      <td>Mid-Ear</td>\n",
       "      <td>0.0400</td>\n",
       "      <td>22.8600</td>\n",
       "      <td>Spells</td>\n",
       "    </tr>\n",
       "    <tr>\n",
       "      <th>3332</th>\n",
       "      <td>GuHWFz1MB</td>\n",
       "      <td>Hyrule</td>\n",
       "      <td>1.0368</td>\n",
       "      <td>79.7148</td>\n",
       "      <td>Spells</td>\n",
       "    </tr>\n",
       "  </tbody>\n",
       "</table>\n",
       "<p>9999 rows × 5 columns</p>\n",
       "</div>"
      ],
      "text/plain": [
       "            name       country  ticket_price  avg_rating          genre\n",
       "0     d19rpnckGv        Hyrule        1.0935     62.0000  SwordSmithing\n",
       "1     KaWRtnToJC        Hyrule        0.7481     28.0000  SwordSmithing\n",
       "2     fJkJTvK9pT  Middle-Earth        0.0437     38.4386  SwordSmithing\n",
       "3     IbDBE8KYaU  Middle_Earth        0.0417     73.0533  SwordSmithing\n",
       "4     sBRX9lLull        Hyrule        0.9455     57.3400         Spells\n",
       "...          ...           ...           ...         ...            ...\n",
       "3328   NqQBsiArt       Genosha      131.5168     37.1521  SwordSmithing\n",
       "3329   G6OInlu5F       Genosha      187.0604     77.8402         Spells\n",
       "3330   f24B8j0ss        Hyrule        0.9642     69.5299  SwordSmithing\n",
       "3331   kvGl6XnoF       Mid-Ear        0.0400     22.8600         Spells\n",
       "3332   GuHWFz1MB        Hyrule        1.0368     79.7148         Spells\n",
       "\n",
       "[9999 rows x 5 columns]"
      ]
     },
     "execution_count": 6,
     "metadata": {},
     "output_type": "execute_result"
    }
   ],
   "source": [
    "data_combined"
   ]
  },
  {
   "cell_type": "code",
   "execution_count": null,
   "metadata": {},
   "outputs": [],
   "source": [
    "data_combined.loc[data_combined.country == 'Genosha', ]"
   ]
  },
  {
   "cell_type": "markdown",
   "metadata": {},
   "source": [
    "## EDA"
   ]
  },
  {
   "cell_type": "markdown",
   "metadata": {},
   "source": [
    "### Check for Typo's in Data"
   ]
  },
  {
   "cell_type": "code",
   "execution_count": 7,
   "metadata": {
    "scrolled": true
   },
   "outputs": [
    {
     "data": {
      "text/plain": [
       "array(['SwordSmithing', 'Spells', 'Mutations', 'Potion_Making'],\n",
       "      dtype=object)"
      ]
     },
     "execution_count": 7,
     "metadata": {},
     "output_type": "execute_result"
    }
   ],
   "source": [
    "data_combined.genre.unique()"
   ]
  },
  {
   "cell_type": "markdown",
   "metadata": {},
   "source": [
    "**No typo's in Genre column.**"
   ]
  },
  {
   "cell_type": "code",
   "execution_count": 8,
   "metadata": {
    "scrolled": false
   },
   "outputs": [
    {
     "data": {
      "text/plain": [
       "array(['Hyrule', 'Middle-Earth', 'Middle_Earth', 'Middle\\\\_Earth',\n",
       "       'Mid-Ear', 'Genosha'], dtype=object)"
      ]
     },
     "execution_count": 8,
     "metadata": {},
     "output_type": "execute_result"
    }
   ],
   "source": [
    "data_combined.country.unique()"
   ]
  },
  {
   "cell_type": "markdown",
   "metadata": {},
   "source": [
    "**Found a couple of typo's in the country column.**"
   ]
  },
  {
   "cell_type": "code",
   "execution_count": 9,
   "metadata": {},
   "outputs": [],
   "source": [
    "# Replace values using a dictionary\n",
    "data_combined.country.replace({'Middle\\\\_Earth':'Middle_Earth', \n",
    "                               'Mid-Ear':'Middle_Earth', \n",
    "                               'Middle-Earth':'Middle_Earth'}, inplace=True)"
   ]
  },
  {
   "cell_type": "code",
   "execution_count": 10,
   "metadata": {},
   "outputs": [
    {
     "data": {
      "text/plain": [
       "array(['Hyrule', 'Middle_Earth', 'Genosha'], dtype=object)"
      ]
     },
     "execution_count": 10,
     "metadata": {},
     "output_type": "execute_result"
    }
   ],
   "source": [
    "# Checking\n",
    "data_combined.country.unique()"
   ]
  },
  {
   "cell_type": "markdown",
   "metadata": {},
   "source": [
    "**There are now only 3 countries.**"
   ]
  },
  {
   "cell_type": "markdown",
   "metadata": {},
   "source": [
    "### Check for Dupes"
   ]
  },
  {
   "cell_type": "code",
   "execution_count": 11,
   "metadata": {
    "scrolled": true
   },
   "outputs": [
    {
     "data": {
      "text/html": [
       "<div>\n",
       "<style scoped>\n",
       "    .dataframe tbody tr th:only-of-type {\n",
       "        vertical-align: middle;\n",
       "    }\n",
       "\n",
       "    .dataframe tbody tr th {\n",
       "        vertical-align: top;\n",
       "    }\n",
       "\n",
       "    .dataframe thead th {\n",
       "        text-align: right;\n",
       "    }\n",
       "</style>\n",
       "<table border=\"1\" class=\"dataframe\">\n",
       "  <thead>\n",
       "    <tr style=\"text-align: right;\">\n",
       "      <th></th>\n",
       "      <th>name</th>\n",
       "      <th>country</th>\n",
       "      <th>ticket_price</th>\n",
       "      <th>avg_rating</th>\n",
       "      <th>genre</th>\n",
       "    </tr>\n",
       "  </thead>\n",
       "  <tbody>\n",
       "    <tr>\n",
       "      <th>23</th>\n",
       "      <td>5xUIWm4jnH</td>\n",
       "      <td>Middle_Earth</td>\n",
       "      <td>0.0422</td>\n",
       "      <td>47.3764</td>\n",
       "      <td>Spells</td>\n",
       "    </tr>\n",
       "    <tr>\n",
       "      <th>25</th>\n",
       "      <td>JqMFZNOId0</td>\n",
       "      <td>Middle_Earth</td>\n",
       "      <td>0.0410</td>\n",
       "      <td>51.1800</td>\n",
       "      <td>Mutations</td>\n",
       "    </tr>\n",
       "    <tr>\n",
       "      <th>53</th>\n",
       "      <td>LmijTifuUV</td>\n",
       "      <td>Hyrule</td>\n",
       "      <td>0.9894</td>\n",
       "      <td>59.6746</td>\n",
       "      <td>Mutations</td>\n",
       "    </tr>\n",
       "    <tr>\n",
       "      <th>106</th>\n",
       "      <td>kDR3dpTkVC</td>\n",
       "      <td>Hyrule</td>\n",
       "      <td>1.0400</td>\n",
       "      <td>64.5252</td>\n",
       "      <td>Mutations</td>\n",
       "    </tr>\n",
       "    <tr>\n",
       "      <th>145</th>\n",
       "      <td>CkGj32GGCu</td>\n",
       "      <td>Hyrule</td>\n",
       "      <td>1.0361</td>\n",
       "      <td>33.6472</td>\n",
       "      <td>Mutations</td>\n",
       "    </tr>\n",
       "    <tr>\n",
       "      <th>...</th>\n",
       "      <td>...</td>\n",
       "      <td>...</td>\n",
       "      <td>...</td>\n",
       "      <td>...</td>\n",
       "      <td>...</td>\n",
       "    </tr>\n",
       "    <tr>\n",
       "      <th>3082</th>\n",
       "      <td>HEy2Cao2qc</td>\n",
       "      <td>Middle_Earth</td>\n",
       "      <td>0.0445</td>\n",
       "      <td>54.9200</td>\n",
       "      <td>SwordSmithing</td>\n",
       "    </tr>\n",
       "    <tr>\n",
       "      <th>3102</th>\n",
       "      <td>UFiifyZ6y1</td>\n",
       "      <td>Hyrule</td>\n",
       "      <td>0.9885</td>\n",
       "      <td>29.9875</td>\n",
       "      <td>SwordSmithing</td>\n",
       "    </tr>\n",
       "    <tr>\n",
       "      <th>3127</th>\n",
       "      <td>5Filgaug69</td>\n",
       "      <td>Genosha</td>\n",
       "      <td>157.6355</td>\n",
       "      <td>56.5093</td>\n",
       "      <td>Spells</td>\n",
       "    </tr>\n",
       "    <tr>\n",
       "      <th>3255</th>\n",
       "      <td>ldghRbHrf8</td>\n",
       "      <td>Hyrule</td>\n",
       "      <td>1.0123</td>\n",
       "      <td>75.7800</td>\n",
       "      <td>Potion_Making</td>\n",
       "    </tr>\n",
       "    <tr>\n",
       "      <th>3277</th>\n",
       "      <td>ixFuwQ4RzY</td>\n",
       "      <td>Hyrule</td>\n",
       "      <td>1.0227</td>\n",
       "      <td>58.5615</td>\n",
       "      <td>Mutations</td>\n",
       "    </tr>\n",
       "  </tbody>\n",
       "</table>\n",
       "<p>132 rows × 5 columns</p>\n",
       "</div>"
      ],
      "text/plain": [
       "            name       country  ticket_price  avg_rating          genre\n",
       "23    5xUIWm4jnH  Middle_Earth        0.0422     47.3764         Spells\n",
       "25    JqMFZNOId0  Middle_Earth        0.0410     51.1800      Mutations\n",
       "53    LmijTifuUV        Hyrule        0.9894     59.6746      Mutations\n",
       "106   kDR3dpTkVC        Hyrule        1.0400     64.5252      Mutations\n",
       "145   CkGj32GGCu        Hyrule        1.0361     33.6472      Mutations\n",
       "...          ...           ...           ...         ...            ...\n",
       "3082  HEy2Cao2qc  Middle_Earth        0.0445     54.9200  SwordSmithing\n",
       "3102  UFiifyZ6y1        Hyrule        0.9885     29.9875  SwordSmithing\n",
       "3127  5Filgaug69       Genosha      157.6355     56.5093         Spells\n",
       "3255  ldghRbHrf8        Hyrule        1.0123     75.7800  Potion_Making\n",
       "3277  ixFuwQ4RzY        Hyrule        1.0227     58.5615      Mutations\n",
       "\n",
       "[132 rows x 5 columns]"
      ]
     },
     "execution_count": 11,
     "metadata": {},
     "output_type": "execute_result"
    }
   ],
   "source": [
    "# Checking for duplicate movie names via duplicated(). If there's a duplicate it will return 'True'. \n",
    "# Finding all the duplicate posts. There are 132 of them.\n",
    "data_combined.loc[data_combined.name.duplicated()==True,:]"
   ]
  },
  {
   "cell_type": "code",
   "execution_count": 12,
   "metadata": {
    "scrolled": false
   },
   "outputs": [
    {
     "data": {
      "text/html": [
       "<div>\n",
       "<style scoped>\n",
       "    .dataframe tbody tr th:only-of-type {\n",
       "        vertical-align: middle;\n",
       "    }\n",
       "\n",
       "    .dataframe tbody tr th {\n",
       "        vertical-align: top;\n",
       "    }\n",
       "\n",
       "    .dataframe thead th {\n",
       "        text-align: right;\n",
       "    }\n",
       "</style>\n",
       "<table border=\"1\" class=\"dataframe\">\n",
       "  <thead>\n",
       "    <tr style=\"text-align: right;\">\n",
       "      <th></th>\n",
       "      <th>name</th>\n",
       "      <th>country</th>\n",
       "      <th>ticket_price</th>\n",
       "      <th>avg_rating</th>\n",
       "      <th>genre</th>\n",
       "    </tr>\n",
       "  </thead>\n",
       "  <tbody>\n",
       "    <tr>\n",
       "      <th>23</th>\n",
       "      <td>5xUIWm4jnH</td>\n",
       "      <td>Hyrule</td>\n",
       "      <td>0.9589</td>\n",
       "      <td>49.9253</td>\n",
       "      <td>Mutations</td>\n",
       "    </tr>\n",
       "    <tr>\n",
       "      <th>23</th>\n",
       "      <td>5xUIWm4jnH</td>\n",
       "      <td>Middle_Earth</td>\n",
       "      <td>0.0422</td>\n",
       "      <td>47.3764</td>\n",
       "      <td>Spells</td>\n",
       "    </tr>\n",
       "  </tbody>\n",
       "</table>\n",
       "</div>"
      ],
      "text/plain": [
       "          name       country  ticket_price  avg_rating      genre\n",
       "23  5xUIWm4jnH        Hyrule        0.9589     49.9253  Mutations\n",
       "23  5xUIWm4jnH  Middle_Earth        0.0422     47.3764     Spells"
      ]
     },
     "execution_count": 12,
     "metadata": {},
     "output_type": "execute_result"
    }
   ],
   "source": [
    "# Check the duplicate movie names.\n",
    "data_combined.loc[data_combined.name=='5xUIWm4jnH',:]"
   ]
  },
  {
   "cell_type": "markdown",
   "metadata": {},
   "source": [
    "**Cheked for duplicates in the name section. The same movie was shown in different countries so that explains the duplicates. Therefore I will keep the data in there.**"
   ]
  },
  {
   "cell_type": "markdown",
   "metadata": {},
   "source": [
    "### Check for Nulls"
   ]
  },
  {
   "cell_type": "code",
   "execution_count": 13,
   "metadata": {
    "scrolled": false
   },
   "outputs": [
    {
     "data": {
      "text/plain": [
       "name             0\n",
       "country          0\n",
       "ticket_price    99\n",
       "avg_rating       0\n",
       "genre            0\n",
       "dtype: int64"
      ]
     },
     "execution_count": 13,
     "metadata": {},
     "output_type": "execute_result"
    }
   ],
   "source": [
    "# Check for nulls\n",
    "data_combined.isnull().sum()"
   ]
  },
  {
   "cell_type": "markdown",
   "metadata": {},
   "source": [
    "**There are 99 nulls in the ticket price column.**"
   ]
  },
  {
   "cell_type": "code",
   "execution_count": 14,
   "metadata": {
    "scrolled": true
   },
   "outputs": [
    {
     "data": {
      "text/html": [
       "<div>\n",
       "<style scoped>\n",
       "    .dataframe tbody tr th:only-of-type {\n",
       "        vertical-align: middle;\n",
       "    }\n",
       "\n",
       "    .dataframe tbody tr th {\n",
       "        vertical-align: top;\n",
       "    }\n",
       "\n",
       "    .dataframe thead th {\n",
       "        text-align: right;\n",
       "    }\n",
       "</style>\n",
       "<table border=\"1\" class=\"dataframe\">\n",
       "  <thead>\n",
       "    <tr style=\"text-align: right;\">\n",
       "      <th></th>\n",
       "      <th>name</th>\n",
       "      <th>country</th>\n",
       "      <th>ticket_price</th>\n",
       "      <th>avg_rating</th>\n",
       "      <th>genre</th>\n",
       "    </tr>\n",
       "  </thead>\n",
       "  <tbody>\n",
       "    <tr>\n",
       "      <th>19</th>\n",
       "      <td>UE0Ygg6i1m</td>\n",
       "      <td>Middle_Earth</td>\n",
       "      <td>NaN</td>\n",
       "      <td>70.2537</td>\n",
       "      <td>SwordSmithing</td>\n",
       "    </tr>\n",
       "    <tr>\n",
       "      <th>142</th>\n",
       "      <td>katuNWNtuw</td>\n",
       "      <td>Hyrule</td>\n",
       "      <td>NaN</td>\n",
       "      <td>42.8697</td>\n",
       "      <td>SwordSmithing</td>\n",
       "    </tr>\n",
       "    <tr>\n",
       "      <th>369</th>\n",
       "      <td>cRtvPBIj4F</td>\n",
       "      <td>Hyrule</td>\n",
       "      <td>NaN</td>\n",
       "      <td>27.9900</td>\n",
       "      <td>Spells</td>\n",
       "    </tr>\n",
       "    <tr>\n",
       "      <th>631</th>\n",
       "      <td>0uyS2WqHST</td>\n",
       "      <td>Hyrule</td>\n",
       "      <td>NaN</td>\n",
       "      <td>48.5600</td>\n",
       "      <td>Spells</td>\n",
       "    </tr>\n",
       "    <tr>\n",
       "      <th>808</th>\n",
       "      <td>Cclr8lUono</td>\n",
       "      <td>Middle_Earth</td>\n",
       "      <td>NaN</td>\n",
       "      <td>49.8600</td>\n",
       "      <td>Mutations</td>\n",
       "    </tr>\n",
       "    <tr>\n",
       "      <th>...</th>\n",
       "      <td>...</td>\n",
       "      <td>...</td>\n",
       "      <td>...</td>\n",
       "      <td>...</td>\n",
       "      <td>...</td>\n",
       "    </tr>\n",
       "    <tr>\n",
       "      <th>2487</th>\n",
       "      <td>jtv6d4nXp</td>\n",
       "      <td>Hyrule</td>\n",
       "      <td>NaN</td>\n",
       "      <td>20.4800</td>\n",
       "      <td>Mutations</td>\n",
       "    </tr>\n",
       "    <tr>\n",
       "      <th>2589</th>\n",
       "      <td>zDtUCO4XH</td>\n",
       "      <td>Hyrule</td>\n",
       "      <td>NaN</td>\n",
       "      <td>49.7800</td>\n",
       "      <td>Potion_Making</td>\n",
       "    </tr>\n",
       "    <tr>\n",
       "      <th>2703</th>\n",
       "      <td>k4gcO7DuG</td>\n",
       "      <td>Hyrule</td>\n",
       "      <td>NaN</td>\n",
       "      <td>68.4426</td>\n",
       "      <td>Mutations</td>\n",
       "    </tr>\n",
       "    <tr>\n",
       "      <th>2763</th>\n",
       "      <td>CqGZaKz9f</td>\n",
       "      <td>Hyrule</td>\n",
       "      <td>NaN</td>\n",
       "      <td>37.9777</td>\n",
       "      <td>Mutations</td>\n",
       "    </tr>\n",
       "    <tr>\n",
       "      <th>3040</th>\n",
       "      <td>DcmBwTuAl</td>\n",
       "      <td>Middle_Earth</td>\n",
       "      <td>NaN</td>\n",
       "      <td>58.0000</td>\n",
       "      <td>SwordSmithing</td>\n",
       "    </tr>\n",
       "  </tbody>\n",
       "</table>\n",
       "<p>99 rows × 5 columns</p>\n",
       "</div>"
      ],
      "text/plain": [
       "            name       country  ticket_price  avg_rating          genre\n",
       "19    UE0Ygg6i1m  Middle_Earth           NaN     70.2537  SwordSmithing\n",
       "142   katuNWNtuw        Hyrule           NaN     42.8697  SwordSmithing\n",
       "369   cRtvPBIj4F        Hyrule           NaN     27.9900         Spells\n",
       "631   0uyS2WqHST        Hyrule           NaN     48.5600         Spells\n",
       "808   Cclr8lUono  Middle_Earth           NaN     49.8600      Mutations\n",
       "...          ...           ...           ...         ...            ...\n",
       "2487   jtv6d4nXp        Hyrule           NaN     20.4800      Mutations\n",
       "2589   zDtUCO4XH        Hyrule           NaN     49.7800  Potion_Making\n",
       "2703   k4gcO7DuG        Hyrule           NaN     68.4426      Mutations\n",
       "2763   CqGZaKz9f        Hyrule           NaN     37.9777      Mutations\n",
       "3040   DcmBwTuAl  Middle_Earth           NaN     58.0000  SwordSmithing\n",
       "\n",
       "[99 rows x 5 columns]"
      ]
     },
     "execution_count": 14,
     "metadata": {},
     "output_type": "execute_result"
    }
   ],
   "source": [
    "# Get all the rows with nulls in ticketprice (only place with nulls)\n",
    "data_combined.loc[data_combined.ticket_price.isnull() == True, :]"
   ]
  },
  {
   "cell_type": "markdown",
   "metadata": {},
   "source": [
    "**Nulls have to be imputed but not sure how to proceed.**\n",
    "\n",
    "Have to check for outliers/mean"
   ]
  },
  {
   "cell_type": "code",
   "execution_count": 15,
   "metadata": {
    "scrolled": false
   },
   "outputs": [
    {
     "data": {
      "text/html": [
       "<div>\n",
       "<style scoped>\n",
       "    .dataframe tbody tr th:only-of-type {\n",
       "        vertical-align: middle;\n",
       "    }\n",
       "\n",
       "    .dataframe tbody tr th {\n",
       "        vertical-align: top;\n",
       "    }\n",
       "\n",
       "    .dataframe thead tr th {\n",
       "        text-align: left;\n",
       "    }\n",
       "\n",
       "    .dataframe thead tr:last-of-type th {\n",
       "        text-align: right;\n",
       "    }\n",
       "</style>\n",
       "<table border=\"1\" class=\"dataframe\">\n",
       "  <thead>\n",
       "    <tr>\n",
       "      <th></th>\n",
       "      <th colspan=\"8\" halign=\"left\">ticket_price</th>\n",
       "      <th colspan=\"8\" halign=\"left\">avg_rating</th>\n",
       "    </tr>\n",
       "    <tr>\n",
       "      <th></th>\n",
       "      <th>count</th>\n",
       "      <th>mean</th>\n",
       "      <th>std</th>\n",
       "      <th>min</th>\n",
       "      <th>25%</th>\n",
       "      <th>50%</th>\n",
       "      <th>75%</th>\n",
       "      <th>max</th>\n",
       "      <th>count</th>\n",
       "      <th>mean</th>\n",
       "      <th>std</th>\n",
       "      <th>min</th>\n",
       "      <th>25%</th>\n",
       "      <th>50%</th>\n",
       "      <th>75%</th>\n",
       "      <th>max</th>\n",
       "    </tr>\n",
       "    <tr>\n",
       "      <th>country</th>\n",
       "      <th></th>\n",
       "      <th></th>\n",
       "      <th></th>\n",
       "      <th></th>\n",
       "      <th></th>\n",
       "      <th></th>\n",
       "      <th></th>\n",
       "      <th></th>\n",
       "      <th></th>\n",
       "      <th></th>\n",
       "      <th></th>\n",
       "      <th></th>\n",
       "      <th></th>\n",
       "      <th></th>\n",
       "      <th></th>\n",
       "      <th></th>\n",
       "    </tr>\n",
       "  </thead>\n",
       "  <tbody>\n",
       "    <tr>\n",
       "      <th>Genosha</th>\n",
       "      <td>497.0</td>\n",
       "      <td>1.398716e+09</td>\n",
       "      <td>1.556169e+10</td>\n",
       "      <td>-213.2527</td>\n",
       "      <td>120.4246</td>\n",
       "      <td>142.1965</td>\n",
       "      <td>161.3713</td>\n",
       "      <td>1.838831e+11</td>\n",
       "      <td>498.0</td>\n",
       "      <td>46.464360</td>\n",
       "      <td>19.837544</td>\n",
       "      <td>0.0</td>\n",
       "      <td>33.05000</td>\n",
       "      <td>45.7075</td>\n",
       "      <td>59.64035</td>\n",
       "      <td>100.0</td>\n",
       "    </tr>\n",
       "    <tr>\n",
       "      <th>Hyrule</th>\n",
       "      <td>5941.0</td>\n",
       "      <td>9.216631e+06</td>\n",
       "      <td>9.505584e+07</td>\n",
       "      <td>-1.2845</td>\n",
       "      <td>0.9269</td>\n",
       "      <td>0.9972</td>\n",
       "      <td>1.0684</td>\n",
       "      <td>1.250900e+09</td>\n",
       "      <td>6003.0</td>\n",
       "      <td>51.178704</td>\n",
       "      <td>15.501737</td>\n",
       "      <td>0.0</td>\n",
       "      <td>40.79025</td>\n",
       "      <td>51.2333</td>\n",
       "      <td>61.95425</td>\n",
       "      <td>100.0</td>\n",
       "    </tr>\n",
       "    <tr>\n",
       "      <th>Middle_Earth</th>\n",
       "      <td>3462.0</td>\n",
       "      <td>4.672733e+05</td>\n",
       "      <td>4.384331e+06</td>\n",
       "      <td>-0.0482</td>\n",
       "      <td>0.0404</td>\n",
       "      <td>0.0419</td>\n",
       "      <td>0.0434</td>\n",
       "      <td>4.550000e+07</td>\n",
       "      <td>3498.0</td>\n",
       "      <td>48.942134</td>\n",
       "      <td>14.687657</td>\n",
       "      <td>0.0</td>\n",
       "      <td>38.94000</td>\n",
       "      <td>48.6470</td>\n",
       "      <td>59.00000</td>\n",
       "      <td>100.0</td>\n",
       "    </tr>\n",
       "  </tbody>\n",
       "</table>\n",
       "</div>"
      ],
      "text/plain": [
       "             ticket_price                                                  \\\n",
       "                    count          mean           std       min       25%   \n",
       "country                                                                     \n",
       "Genosha             497.0  1.398716e+09  1.556169e+10 -213.2527  120.4246   \n",
       "Hyrule             5941.0  9.216631e+06  9.505584e+07   -1.2845    0.9269   \n",
       "Middle_Earth       3462.0  4.672733e+05  4.384331e+06   -0.0482    0.0404   \n",
       "\n",
       "                                               avg_rating             \\\n",
       "                   50%       75%           max      count       mean   \n",
       "country                                                                \n",
       "Genosha       142.1965  161.3713  1.838831e+11      498.0  46.464360   \n",
       "Hyrule          0.9972    1.0684  1.250900e+09     6003.0  51.178704   \n",
       "Middle_Earth    0.0419    0.0434  4.550000e+07     3498.0  48.942134   \n",
       "\n",
       "                                                                  \n",
       "                    std  min       25%      50%       75%    max  \n",
       "country                                                           \n",
       "Genosha       19.837544  0.0  33.05000  45.7075  59.64035  100.0  \n",
       "Hyrule        15.501737  0.0  40.79025  51.2333  61.95425  100.0  \n",
       "Middle_Earth  14.687657  0.0  38.94000  48.6470  59.00000  100.0  "
      ]
     },
     "execution_count": 15,
     "metadata": {},
     "output_type": "execute_result"
    }
   ],
   "source": [
    "data_combined.groupby(by='country').describe()"
   ]
  },
  {
   "cell_type": "markdown",
   "metadata": {},
   "source": [
    "**Obeservations:**\n",
    "\n",
    "1. There are negative values. Assuming that it's human error on input, the absolute value will be taken. \n",
    "2. Genosha has a larger currency value on average than the other two countries. Will have to consider standardizing the prices. \n",
    "3. At this point, the nulls have not be imputed and therefore is a difference in total data count. "
   ]
  },
  {
   "cell_type": "markdown",
   "metadata": {},
   "source": [
    "#### 1. Removing negative values"
   ]
  },
  {
   "cell_type": "code",
   "execution_count": 16,
   "metadata": {
    "scrolled": true
   },
   "outputs": [
    {
     "data": {
      "text/html": [
       "<div>\n",
       "<style scoped>\n",
       "    .dataframe tbody tr th:only-of-type {\n",
       "        vertical-align: middle;\n",
       "    }\n",
       "\n",
       "    .dataframe tbody tr th {\n",
       "        vertical-align: top;\n",
       "    }\n",
       "\n",
       "    .dataframe thead th {\n",
       "        text-align: right;\n",
       "    }\n",
       "</style>\n",
       "<table border=\"1\" class=\"dataframe\">\n",
       "  <thead>\n",
       "    <tr style=\"text-align: right;\">\n",
       "      <th></th>\n",
       "      <th>name</th>\n",
       "      <th>country</th>\n",
       "      <th>ticket_price</th>\n",
       "      <th>avg_rating</th>\n",
       "      <th>genre</th>\n",
       "    </tr>\n",
       "  </thead>\n",
       "  <tbody>\n",
       "    <tr>\n",
       "      <th>42</th>\n",
       "      <td>MFsjIY22c8</td>\n",
       "      <td>Genosha</td>\n",
       "      <td>-128.6223</td>\n",
       "      <td>33.4917</td>\n",
       "      <td>SwordSmithing</td>\n",
       "    </tr>\n",
       "    <tr>\n",
       "      <th>77</th>\n",
       "      <td>Q04jpRscMu</td>\n",
       "      <td>Middle_Earth</td>\n",
       "      <td>-0.0425</td>\n",
       "      <td>65.0400</td>\n",
       "      <td>SwordSmithing</td>\n",
       "    </tr>\n",
       "    <tr>\n",
       "      <th>112</th>\n",
       "      <td>eEa2ZQUVxV</td>\n",
       "      <td>Middle_Earth</td>\n",
       "      <td>-0.0430</td>\n",
       "      <td>55.0000</td>\n",
       "      <td>Mutations</td>\n",
       "    </tr>\n",
       "    <tr>\n",
       "      <th>169</th>\n",
       "      <td>O9MEuAZDIR</td>\n",
       "      <td>Middle_Earth</td>\n",
       "      <td>-0.0394</td>\n",
       "      <td>83.6464</td>\n",
       "      <td>Spells</td>\n",
       "    </tr>\n",
       "    <tr>\n",
       "      <th>178</th>\n",
       "      <td>kK4umWUVRq</td>\n",
       "      <td>Hyrule</td>\n",
       "      <td>-0.8454</td>\n",
       "      <td>42.9900</td>\n",
       "      <td>Spells</td>\n",
       "    </tr>\n",
       "    <tr>\n",
       "      <th>...</th>\n",
       "      <td>...</td>\n",
       "      <td>...</td>\n",
       "      <td>...</td>\n",
       "      <td>...</td>\n",
       "      <td>...</td>\n",
       "    </tr>\n",
       "    <tr>\n",
       "      <th>3258</th>\n",
       "      <td>s1xxwolRi</td>\n",
       "      <td>Genosha</td>\n",
       "      <td>-157.6664</td>\n",
       "      <td>55.7200</td>\n",
       "      <td>Potion_Making</td>\n",
       "    </tr>\n",
       "    <tr>\n",
       "      <th>3263</th>\n",
       "      <td>boTM4vOZ1</td>\n",
       "      <td>Middle_Earth</td>\n",
       "      <td>-0.0418</td>\n",
       "      <td>74.4341</td>\n",
       "      <td>Spells</td>\n",
       "    </tr>\n",
       "    <tr>\n",
       "      <th>3266</th>\n",
       "      <td>taycnnMMK</td>\n",
       "      <td>Middle_Earth</td>\n",
       "      <td>-0.0416</td>\n",
       "      <td>50.9029</td>\n",
       "      <td>Mutations</td>\n",
       "    </tr>\n",
       "    <tr>\n",
       "      <th>3268</th>\n",
       "      <td>x3F5nDICl</td>\n",
       "      <td>Hyrule</td>\n",
       "      <td>-1.2058</td>\n",
       "      <td>62.7968</td>\n",
       "      <td>Mutations</td>\n",
       "    </tr>\n",
       "    <tr>\n",
       "      <th>3304</th>\n",
       "      <td>rHhKxBOuD</td>\n",
       "      <td>Hyrule</td>\n",
       "      <td>-0.9091</td>\n",
       "      <td>67.0000</td>\n",
       "      <td>Mutations</td>\n",
       "    </tr>\n",
       "  </tbody>\n",
       "</table>\n",
       "<p>297 rows × 5 columns</p>\n",
       "</div>"
      ],
      "text/plain": [
       "            name       country  ticket_price  avg_rating          genre\n",
       "42    MFsjIY22c8       Genosha     -128.6223     33.4917  SwordSmithing\n",
       "77    Q04jpRscMu  Middle_Earth       -0.0425     65.0400  SwordSmithing\n",
       "112   eEa2ZQUVxV  Middle_Earth       -0.0430     55.0000      Mutations\n",
       "169   O9MEuAZDIR  Middle_Earth       -0.0394     83.6464         Spells\n",
       "178   kK4umWUVRq        Hyrule       -0.8454     42.9900         Spells\n",
       "...          ...           ...           ...         ...            ...\n",
       "3258   s1xxwolRi       Genosha     -157.6664     55.7200  Potion_Making\n",
       "3263   boTM4vOZ1  Middle_Earth       -0.0418     74.4341         Spells\n",
       "3266   taycnnMMK  Middle_Earth       -0.0416     50.9029      Mutations\n",
       "3268   x3F5nDICl        Hyrule       -1.2058     62.7968      Mutations\n",
       "3304   rHhKxBOuD        Hyrule       -0.9091     67.0000      Mutations\n",
       "\n",
       "[297 rows x 5 columns]"
      ]
     },
     "execution_count": 16,
     "metadata": {},
     "output_type": "execute_result"
    }
   ],
   "source": [
    "# Check for all negative ticket prices.\n",
    "data_combined.loc[data_combined['ticket_price'] <= 0, :]"
   ]
  },
  {
   "cell_type": "markdown",
   "metadata": {},
   "source": [
    "**297 cases of negative ticket prices**"
   ]
  },
  {
   "cell_type": "code",
   "execution_count": 17,
   "metadata": {},
   "outputs": [],
   "source": [
    "# Take absolute value of all ticket prices.\n",
    "data_combined.ticket_price = abs(data_combined.ticket_price)"
   ]
  },
  {
   "cell_type": "code",
   "execution_count": 18,
   "metadata": {
    "scrolled": true
   },
   "outputs": [
    {
     "data": {
      "text/html": [
       "<div>\n",
       "<style scoped>\n",
       "    .dataframe tbody tr th:only-of-type {\n",
       "        vertical-align: middle;\n",
       "    }\n",
       "\n",
       "    .dataframe tbody tr th {\n",
       "        vertical-align: top;\n",
       "    }\n",
       "\n",
       "    .dataframe thead th {\n",
       "        text-align: right;\n",
       "    }\n",
       "</style>\n",
       "<table border=\"1\" class=\"dataframe\">\n",
       "  <thead>\n",
       "    <tr style=\"text-align: right;\">\n",
       "      <th></th>\n",
       "      <th>name</th>\n",
       "      <th>country</th>\n",
       "      <th>ticket_price</th>\n",
       "      <th>avg_rating</th>\n",
       "      <th>genre</th>\n",
       "    </tr>\n",
       "  </thead>\n",
       "  <tbody>\n",
       "  </tbody>\n",
       "</table>\n",
       "</div>"
      ],
      "text/plain": [
       "Empty DataFrame\n",
       "Columns: [name, country, ticket_price, avg_rating, genre]\n",
       "Index: []"
      ]
     },
     "execution_count": 18,
     "metadata": {},
     "output_type": "execute_result"
    }
   ],
   "source": [
    "# Checking\n",
    "data_combined.loc[data_combined['ticket_price'] <= 0, :]"
   ]
  },
  {
   "cell_type": "markdown",
   "metadata": {},
   "source": [
    "#### 2. Standardizing Ticket Prices"
   ]
  },
  {
   "cell_type": "markdown",
   "metadata": {},
   "source": [
    "I found it easiest to split up the datasets back into 3 separate country dataframes. This prevents issues with different currencies until a conversion rate can be determined."
   ]
  },
  {
   "cell_type": "code",
   "execution_count": 19,
   "metadata": {
    "scrolled": true
   },
   "outputs": [],
   "source": [
    "# Splititng up original combined data based on country.\n",
    "data_g = data_combined.loc[data_combined.country == 'Genosha', :]\n",
    "data_h = data_combined.loc[data_combined.country == 'Hyrule', :]\n",
    "data_me = data_combined.loc[data_combined.country == 'Middle_Earth', :]"
   ]
  },
  {
   "cell_type": "markdown",
   "metadata": {},
   "source": [
    "#### Genosha"
   ]
  },
  {
   "cell_type": "code",
   "execution_count": 20,
   "metadata": {},
   "outputs": [
    {
     "data": {
      "text/html": [
       "<div>\n",
       "<style scoped>\n",
       "    .dataframe tbody tr th:only-of-type {\n",
       "        vertical-align: middle;\n",
       "    }\n",
       "\n",
       "    .dataframe tbody tr th {\n",
       "        vertical-align: top;\n",
       "    }\n",
       "\n",
       "    .dataframe thead th {\n",
       "        text-align: right;\n",
       "    }\n",
       "</style>\n",
       "<table border=\"1\" class=\"dataframe\">\n",
       "  <thead>\n",
       "    <tr style=\"text-align: right;\">\n",
       "      <th></th>\n",
       "      <th>ticket_price</th>\n",
       "      <th>avg_rating</th>\n",
       "    </tr>\n",
       "  </thead>\n",
       "  <tbody>\n",
       "    <tr>\n",
       "      <th>count</th>\n",
       "      <td>4.970000e+02</td>\n",
       "      <td>498.000000</td>\n",
       "    </tr>\n",
       "    <tr>\n",
       "      <th>mean</th>\n",
       "      <td>1.398716e+09</td>\n",
       "      <td>46.464360</td>\n",
       "    </tr>\n",
       "    <tr>\n",
       "      <th>std</th>\n",
       "      <td>1.556169e+10</td>\n",
       "      <td>19.837544</td>\n",
       "    </tr>\n",
       "    <tr>\n",
       "      <th>min</th>\n",
       "      <td>6.652700e+01</td>\n",
       "      <td>0.000000</td>\n",
       "    </tr>\n",
       "    <tr>\n",
       "      <th>25%</th>\n",
       "      <td>1.227325e+02</td>\n",
       "      <td>33.050000</td>\n",
       "    </tr>\n",
       "    <tr>\n",
       "      <th>50%</th>\n",
       "      <td>1.435071e+02</td>\n",
       "      <td>45.707500</td>\n",
       "    </tr>\n",
       "    <tr>\n",
       "      <th>75%</th>\n",
       "      <td>1.619428e+02</td>\n",
       "      <td>59.640350</td>\n",
       "    </tr>\n",
       "    <tr>\n",
       "      <th>max</th>\n",
       "      <td>1.838831e+11</td>\n",
       "      <td>100.000000</td>\n",
       "    </tr>\n",
       "  </tbody>\n",
       "</table>\n",
       "</div>"
      ],
      "text/plain": [
       "       ticket_price  avg_rating\n",
       "count  4.970000e+02  498.000000\n",
       "mean   1.398716e+09   46.464360\n",
       "std    1.556169e+10   19.837544\n",
       "min    6.652700e+01    0.000000\n",
       "25%    1.227325e+02   33.050000\n",
       "50%    1.435071e+02   45.707500\n",
       "75%    1.619428e+02   59.640350\n",
       "max    1.838831e+11  100.000000"
      ]
     },
     "execution_count": 20,
     "metadata": {},
     "output_type": "execute_result"
    }
   ],
   "source": [
    "data_g.describe()"
   ]
  },
  {
   "cell_type": "code",
   "execution_count": 21,
   "metadata": {
    "scrolled": false
   },
   "outputs": [
    {
     "name": "stderr",
     "output_type": "stream",
     "text": [
      "C:\\Users\\Jason\\anaconda3\\envs\\dsi\\lib\\site-packages\\numpy\\lib\\histograms.py:839: RuntimeWarning: invalid value encountered in greater_equal\n",
      "  keep = (tmp_a >= first_edge)\n",
      "C:\\Users\\Jason\\anaconda3\\envs\\dsi\\lib\\site-packages\\numpy\\lib\\histograms.py:840: RuntimeWarning: invalid value encountered in less_equal\n",
      "  keep &= (tmp_a <= last_edge)\n"
     ]
    },
    {
     "data": {
      "image/png": "[encoded data removed]",
      "text/plain": [
       "<Figure size 432x288 with 1 Axes>"
      ]
     },
     "metadata": {
      "needs_background": "light"
     },
     "output_type": "display_data"
    }
   ],
   "source": [
    "plt.hist(data_g.ticket_price);\n",
    "plt.title('Original Distribution - Genosha')\n",
    "plt.ylabel('Count')\n",
    "plt.xlabel('Ticket Price');"
   ]
  },
  {
   "cell_type": "code",
   "execution_count": 22,
   "metadata": {},
   "outputs": [],
   "source": [
    "data_g_high = data_g.loc[data_g.ticket_price >= 0.2e9,:]\n",
    "data_g_low = data_g.loc[data_g.ticket_price < 0.2e9,:]"
   ]
  },
  {
   "cell_type": "code",
   "execution_count": 23,
   "metadata": {
    "scrolled": false
   },
   "outputs": [
    {
     "data": {
      "image/png": "[encoded data removed]",
      "text/plain": [
       "<Figure size 432x288 with 2 Axes>"
      ]
     },
     "metadata": {
      "needs_background": "light"
     },
     "output_type": "display_data"
    }
   ],
   "source": [
    "f, (ax1, ax2) = plt.subplots(1, 2, sharey=True);\n",
    "\n",
    "plt.suptitle('Split Ticket Price Distribution')\n",
    "f.text(0.5, 0, 'Ticket Price')\n",
    "\n",
    "ax1.hist(data_g_low.ticket_price);\n",
    "ax1.set_title('Low Price Distribution')\n",
    "ax1.set_ylabel('Count')\n",
    "\n",
    "ax2.hist(data_g_high.ticket_price);\n",
    "ax2.set_title('High Price Distribution');"
   ]
  },
  {
   "cell_type": "code",
   "execution_count": 24,
   "metadata": {
    "scrolled": true
   },
   "outputs": [
    {
     "name": "stderr",
     "output_type": "stream",
     "text": [
      "C:\\Users\\Jason\\anaconda3\\envs\\dsi\\lib\\site-packages\\pandas\\core\\generic.py:5303: SettingWithCopyWarning: \n",
      "A value is trying to be set on a copy of a slice from a DataFrame.\n",
      "Try using .loc[row_indexer,col_indexer] = value instead\n",
      "\n",
      "See the caveats in the documentation: https://pandas.pydata.org/pandas-docs/stable/user_guide/indexing.html#returning-a-view-versus-a-copy\n",
      "  self[name] = value\n"
     ]
    }
   ],
   "source": [
    "# Adjusting high price outliers to overlap with original distribution.\n",
    "data_g.ticket_price = data_g.ticket_price.where(data_g.ticket_price < 0.2e9, \n",
    "                                                data_g.ticket_price/(1e9))"
   ]
  },
  {
   "cell_type": "code",
   "execution_count": 25,
   "metadata": {
    "scrolled": true
   },
   "outputs": [
    {
     "data": {
      "text/html": [
       "<div>\n",
       "<style scoped>\n",
       "    .dataframe tbody tr th:only-of-type {\n",
       "        vertical-align: middle;\n",
       "    }\n",
       "\n",
       "    .dataframe tbody tr th {\n",
       "        vertical-align: top;\n",
       "    }\n",
       "\n",
       "    .dataframe thead th {\n",
       "        text-align: right;\n",
       "    }\n",
       "</style>\n",
       "<table border=\"1\" class=\"dataframe\">\n",
       "  <thead>\n",
       "    <tr style=\"text-align: right;\">\n",
       "      <th></th>\n",
       "      <th>ticket_price</th>\n",
       "      <th>avg_rating</th>\n",
       "    </tr>\n",
       "  </thead>\n",
       "  <tbody>\n",
       "    <tr>\n",
       "      <th>count</th>\n",
       "      <td>497.000000</td>\n",
       "      <td>498.000000</td>\n",
       "    </tr>\n",
       "    <tr>\n",
       "      <th>mean</th>\n",
       "      <td>143.028709</td>\n",
       "      <td>46.464360</td>\n",
       "    </tr>\n",
       "    <tr>\n",
       "      <th>std</th>\n",
       "      <td>28.929982</td>\n",
       "      <td>19.837544</td>\n",
       "    </tr>\n",
       "    <tr>\n",
       "      <th>min</th>\n",
       "      <td>66.527000</td>\n",
       "      <td>0.000000</td>\n",
       "    </tr>\n",
       "    <tr>\n",
       "      <th>25%</th>\n",
       "      <td>122.732500</td>\n",
       "      <td>33.050000</td>\n",
       "    </tr>\n",
       "    <tr>\n",
       "      <th>50%</th>\n",
       "      <td>143.507100</td>\n",
       "      <td>45.707500</td>\n",
       "    </tr>\n",
       "    <tr>\n",
       "      <th>75%</th>\n",
       "      <td>161.942800</td>\n",
       "      <td>59.640350</td>\n",
       "    </tr>\n",
       "    <tr>\n",
       "      <th>max</th>\n",
       "      <td>235.914200</td>\n",
       "      <td>100.000000</td>\n",
       "    </tr>\n",
       "  </tbody>\n",
       "</table>\n",
       "</div>"
      ],
      "text/plain": [
       "       ticket_price  avg_rating\n",
       "count    497.000000  498.000000\n",
       "mean     143.028709   46.464360\n",
       "std       28.929982   19.837544\n",
       "min       66.527000    0.000000\n",
       "25%      122.732500   33.050000\n",
       "50%      143.507100   45.707500\n",
       "75%      161.942800   59.640350\n",
       "max      235.914200  100.000000"
      ]
     },
     "execution_count": 25,
     "metadata": {},
     "output_type": "execute_result"
    }
   ],
   "source": [
    "# Checking\n",
    "data_g.describe()"
   ]
  },
  {
   "cell_type": "code",
   "execution_count": 26,
   "metadata": {},
   "outputs": [
    {
     "name": "stderr",
     "output_type": "stream",
     "text": [
      "C:\\Users\\Jason\\anaconda3\\envs\\dsi\\lib\\site-packages\\numpy\\lib\\histograms.py:839: RuntimeWarning: invalid value encountered in greater_equal\n",
      "  keep = (tmp_a >= first_edge)\n",
      "C:\\Users\\Jason\\anaconda3\\envs\\dsi\\lib\\site-packages\\numpy\\lib\\histograms.py:840: RuntimeWarning: invalid value encountered in less_equal\n",
      "  keep &= (tmp_a <= last_edge)\n"
     ]
    },
    {
     "data": {
      "image/png": "[encoded data removed]",
      "text/plain": [
       "<Figure size 432x288 with 1 Axes>"
      ]
     },
     "metadata": {
      "needs_background": "light"
     },
     "output_type": "display_data"
    }
   ],
   "source": [
    "# Plot to check if outliers are adjusted\n",
    "plt.hist(data_g.ticket_price, color='Red');\n",
    "plt.title('Corrected Outliers  - Genosha')\n",
    "plt.xlabel('Ticket Price')\n",
    "plt.ylabel('Count');"
   ]
  },
  {
   "cell_type": "markdown",
   "metadata": {},
   "source": [
    "#### Hyrule"
   ]
  },
  {
   "cell_type": "code",
   "execution_count": 27,
   "metadata": {
    "scrolled": true
   },
   "outputs": [
    {
     "data": {
      "text/html": [
       "<div>\n",
       "<style scoped>\n",
       "    .dataframe tbody tr th:only-of-type {\n",
       "        vertical-align: middle;\n",
       "    }\n",
       "\n",
       "    .dataframe tbody tr th {\n",
       "        vertical-align: top;\n",
       "    }\n",
       "\n",
       "    .dataframe thead th {\n",
       "        text-align: right;\n",
       "    }\n",
       "</style>\n",
       "<table border=\"1\" class=\"dataframe\">\n",
       "  <thead>\n",
       "    <tr style=\"text-align: right;\">\n",
       "      <th></th>\n",
       "      <th>ticket_price</th>\n",
       "      <th>avg_rating</th>\n",
       "    </tr>\n",
       "  </thead>\n",
       "  <tbody>\n",
       "    <tr>\n",
       "      <th>count</th>\n",
       "      <td>5.941000e+03</td>\n",
       "      <td>6003.000000</td>\n",
       "    </tr>\n",
       "    <tr>\n",
       "      <th>mean</th>\n",
       "      <td>9.216631e+06</td>\n",
       "      <td>51.178704</td>\n",
       "    </tr>\n",
       "    <tr>\n",
       "      <th>std</th>\n",
       "      <td>9.505584e+07</td>\n",
       "      <td>15.501737</td>\n",
       "    </tr>\n",
       "    <tr>\n",
       "      <th>min</th>\n",
       "      <td>6.052000e-01</td>\n",
       "      <td>0.000000</td>\n",
       "    </tr>\n",
       "    <tr>\n",
       "      <th>25%</th>\n",
       "      <td>9.354000e-01</td>\n",
       "      <td>40.790250</td>\n",
       "    </tr>\n",
       "    <tr>\n",
       "      <th>50%</th>\n",
       "      <td>1.000700e+00</td>\n",
       "      <td>51.233300</td>\n",
       "    </tr>\n",
       "    <tr>\n",
       "      <th>75%</th>\n",
       "      <td>1.070500e+00</td>\n",
       "      <td>61.954250</td>\n",
       "    </tr>\n",
       "    <tr>\n",
       "      <th>max</th>\n",
       "      <td>1.250900e+09</td>\n",
       "      <td>100.000000</td>\n",
       "    </tr>\n",
       "  </tbody>\n",
       "</table>\n",
       "</div>"
      ],
      "text/plain": [
       "       ticket_price   avg_rating\n",
       "count  5.941000e+03  6003.000000\n",
       "mean   9.216631e+06    51.178704\n",
       "std    9.505584e+07    15.501737\n",
       "min    6.052000e-01     0.000000\n",
       "25%    9.354000e-01    40.790250\n",
       "50%    1.000700e+00    51.233300\n",
       "75%    1.070500e+00    61.954250\n",
       "max    1.250900e+09   100.000000"
      ]
     },
     "execution_count": 27,
     "metadata": {},
     "output_type": "execute_result"
    }
   ],
   "source": [
    "data_h.describe()"
   ]
  },
  {
   "cell_type": "code",
   "execution_count": 28,
   "metadata": {},
   "outputs": [
    {
     "name": "stderr",
     "output_type": "stream",
     "text": [
      "C:\\Users\\Jason\\anaconda3\\envs\\dsi\\lib\\site-packages\\numpy\\lib\\histograms.py:839: RuntimeWarning: invalid value encountered in greater_equal\n",
      "  keep = (tmp_a >= first_edge)\n",
      "C:\\Users\\Jason\\anaconda3\\envs\\dsi\\lib\\site-packages\\numpy\\lib\\histograms.py:840: RuntimeWarning: invalid value encountered in less_equal\n",
      "  keep &= (tmp_a <= last_edge)\n"
     ]
    },
    {
     "data": {
      "image/png": "[encoded data removed]",
      "text/plain": [
       "<Figure size 432x288 with 1 Axes>"
      ]
     },
     "metadata": {
      "needs_background": "light"
     },
     "output_type": "display_data"
    }
   ],
   "source": [
    "plt.hist(data_h.ticket_price);\n",
    "plt.title('Original Distribution - Hyrule');\n",
    "plt.ylabel('Count')\n",
    "plt.xlabel('Ticket Price');"
   ]
  },
  {
   "cell_type": "code",
   "execution_count": 29,
   "metadata": {
    "scrolled": false
   },
   "outputs": [],
   "source": [
    "# Split dataframes into high price point and low price point\n",
    "data_h_high = data_h.loc[data_h.ticket_price >= 0.6e9,:]\n",
    "data_h_low = data_h.loc[data_h.ticket_price < 0.6e9,:]"
   ]
  },
  {
   "cell_type": "code",
   "execution_count": 30,
   "metadata": {
    "scrolled": true
   },
   "outputs": [
    {
     "data": {
      "image/png": "[encoded data removed]",
      "text/plain": [
       "<Figure size 432x288 with 2 Axes>"
      ]
     },
     "metadata": {
      "needs_background": "light"
     },
     "output_type": "display_data"
    }
   ],
   "source": [
    "f, (ax1, ax2) = plt.subplots(1, 2);\n",
    "\n",
    "plt.suptitle('Split Ticket Price Distribution')\n",
    "f.text(0.5, 0, 'Ticket Price')\n",
    "\n",
    "ax1.hist(data_h_low.ticket_price);\n",
    "ax1.set_title('Low Price Distribution')\n",
    "ax1.set_ylabel('Count')\n",
    "\n",
    "ax2.hist(data_h_high.ticket_price);\n",
    "ax2.set_title('High Price Distribution');"
   ]
  },
  {
   "cell_type": "code",
   "execution_count": 31,
   "metadata": {},
   "outputs": [
    {
     "name": "stderr",
     "output_type": "stream",
     "text": [
      "C:\\Users\\Jason\\anaconda3\\envs\\dsi\\lib\\site-packages\\pandas\\core\\generic.py:5303: SettingWithCopyWarning: \n",
      "A value is trying to be set on a copy of a slice from a DataFrame.\n",
      "Try using .loc[row_indexer,col_indexer] = value instead\n",
      "\n",
      "See the caveats in the documentation: https://pandas.pydata.org/pandas-docs/stable/user_guide/indexing.html#returning-a-view-versus-a-copy\n",
      "  self[name] = value\n"
     ]
    }
   ],
   "source": [
    "# Adjusting high price outliers to overlap with original distribution.\n",
    "data_h.ticket_price = data_h.ticket_price.where(data_h.ticket_price < 0.6e9, \n",
    "                                                data_h.ticket_price/(1e9))"
   ]
  },
  {
   "cell_type": "code",
   "execution_count": 32,
   "metadata": {},
   "outputs": [
    {
     "data": {
      "text/html": [
       "<div>\n",
       "<style scoped>\n",
       "    .dataframe tbody tr th:only-of-type {\n",
       "        vertical-align: middle;\n",
       "    }\n",
       "\n",
       "    .dataframe tbody tr th {\n",
       "        vertical-align: top;\n",
       "    }\n",
       "\n",
       "    .dataframe thead th {\n",
       "        text-align: right;\n",
       "    }\n",
       "</style>\n",
       "<table border=\"1\" class=\"dataframe\">\n",
       "  <thead>\n",
       "    <tr style=\"text-align: right;\">\n",
       "      <th></th>\n",
       "      <th>ticket_price</th>\n",
       "      <th>avg_rating</th>\n",
       "    </tr>\n",
       "  </thead>\n",
       "  <tbody>\n",
       "    <tr>\n",
       "      <th>count</th>\n",
       "      <td>5941.000000</td>\n",
       "      <td>6003.000000</td>\n",
       "    </tr>\n",
       "    <tr>\n",
       "      <th>mean</th>\n",
       "      <td>1.000616</td>\n",
       "      <td>51.178704</td>\n",
       "    </tr>\n",
       "    <tr>\n",
       "      <th>std</th>\n",
       "      <td>0.099027</td>\n",
       "      <td>15.501737</td>\n",
       "    </tr>\n",
       "    <tr>\n",
       "      <th>min</th>\n",
       "      <td>0.605200</td>\n",
       "      <td>0.000000</td>\n",
       "    </tr>\n",
       "    <tr>\n",
       "      <th>25%</th>\n",
       "      <td>0.934300</td>\n",
       "      <td>40.790250</td>\n",
       "    </tr>\n",
       "    <tr>\n",
       "      <th>50%</th>\n",
       "      <td>0.999200</td>\n",
       "      <td>51.233300</td>\n",
       "    </tr>\n",
       "    <tr>\n",
       "      <th>75%</th>\n",
       "      <td>1.068200</td>\n",
       "      <td>61.954250</td>\n",
       "    </tr>\n",
       "    <tr>\n",
       "      <th>max</th>\n",
       "      <td>1.358500</td>\n",
       "      <td>100.000000</td>\n",
       "    </tr>\n",
       "  </tbody>\n",
       "</table>\n",
       "</div>"
      ],
      "text/plain": [
       "       ticket_price   avg_rating\n",
       "count   5941.000000  6003.000000\n",
       "mean       1.000616    51.178704\n",
       "std        0.099027    15.501737\n",
       "min        0.605200     0.000000\n",
       "25%        0.934300    40.790250\n",
       "50%        0.999200    51.233300\n",
       "75%        1.068200    61.954250\n",
       "max        1.358500   100.000000"
      ]
     },
     "execution_count": 32,
     "metadata": {},
     "output_type": "execute_result"
    }
   ],
   "source": [
    "data_h.describe()"
   ]
  },
  {
   "cell_type": "code",
   "execution_count": 33,
   "metadata": {},
   "outputs": [
    {
     "name": "stderr",
     "output_type": "stream",
     "text": [
      "C:\\Users\\Jason\\anaconda3\\envs\\dsi\\lib\\site-packages\\numpy\\lib\\histograms.py:839: RuntimeWarning: invalid value encountered in greater_equal\n",
      "  keep = (tmp_a >= first_edge)\n",
      "C:\\Users\\Jason\\anaconda3\\envs\\dsi\\lib\\site-packages\\numpy\\lib\\histograms.py:840: RuntimeWarning: invalid value encountered in less_equal\n",
      "  keep &= (tmp_a <= last_edge)\n"
     ]
    },
    {
     "data": {
      "image/png": "[encoded data removed]",
      "text/plain": [
       "<Figure size 432x288 with 1 Axes>"
      ]
     },
     "metadata": {
      "needs_background": "light"
     },
     "output_type": "display_data"
    }
   ],
   "source": [
    "# Checking original distribution with corrected outliers\n",
    "plt.hist(data_h.ticket_price, color='Red');\n",
    "plt.title('Corrected Outliers Distribution - Hyrule')\n",
    "plt.xlabel('Ticket Price')\n",
    "plt.ylabel('Count');"
   ]
  },
  {
   "cell_type": "markdown",
   "metadata": {},
   "source": [
    "#### Middle Earth"
   ]
  },
  {
   "cell_type": "code",
   "execution_count": 34,
   "metadata": {
    "scrolled": true
   },
   "outputs": [
    {
     "data": {
      "text/html": [
       "<div>\n",
       "<style scoped>\n",
       "    .dataframe tbody tr th:only-of-type {\n",
       "        vertical-align: middle;\n",
       "    }\n",
       "\n",
       "    .dataframe tbody tr th {\n",
       "        vertical-align: top;\n",
       "    }\n",
       "\n",
       "    .dataframe thead th {\n",
       "        text-align: right;\n",
       "    }\n",
       "</style>\n",
       "<table border=\"1\" class=\"dataframe\">\n",
       "  <thead>\n",
       "    <tr style=\"text-align: right;\">\n",
       "      <th></th>\n",
       "      <th>ticket_price</th>\n",
       "      <th>avg_rating</th>\n",
       "    </tr>\n",
       "  </thead>\n",
       "  <tbody>\n",
       "    <tr>\n",
       "      <th>count</th>\n",
       "      <td>3.462000e+03</td>\n",
       "      <td>3498.000000</td>\n",
       "    </tr>\n",
       "    <tr>\n",
       "      <th>mean</th>\n",
       "      <td>4.672733e+05</td>\n",
       "      <td>48.942134</td>\n",
       "    </tr>\n",
       "    <tr>\n",
       "      <th>std</th>\n",
       "      <td>4.384331e+06</td>\n",
       "      <td>14.687657</td>\n",
       "    </tr>\n",
       "    <tr>\n",
       "      <th>min</th>\n",
       "      <td>3.480000e-02</td>\n",
       "      <td>0.000000</td>\n",
       "    </tr>\n",
       "    <tr>\n",
       "      <th>25%</th>\n",
       "      <td>4.060000e-02</td>\n",
       "      <td>38.940000</td>\n",
       "    </tr>\n",
       "    <tr>\n",
       "      <th>50%</th>\n",
       "      <td>4.200000e-02</td>\n",
       "      <td>48.647000</td>\n",
       "    </tr>\n",
       "    <tr>\n",
       "      <th>75%</th>\n",
       "      <td>4.340000e-02</td>\n",
       "      <td>59.000000</td>\n",
       "    </tr>\n",
       "    <tr>\n",
       "      <th>max</th>\n",
       "      <td>4.550000e+07</td>\n",
       "      <td>100.000000</td>\n",
       "    </tr>\n",
       "  </tbody>\n",
       "</table>\n",
       "</div>"
      ],
      "text/plain": [
       "       ticket_price   avg_rating\n",
       "count  3.462000e+03  3498.000000\n",
       "mean   4.672733e+05    48.942134\n",
       "std    4.384331e+06    14.687657\n",
       "min    3.480000e-02     0.000000\n",
       "25%    4.060000e-02    38.940000\n",
       "50%    4.200000e-02    48.647000\n",
       "75%    4.340000e-02    59.000000\n",
       "max    4.550000e+07   100.000000"
      ]
     },
     "execution_count": 34,
     "metadata": {},
     "output_type": "execute_result"
    }
   ],
   "source": [
    "data_me.describe()"
   ]
  },
  {
   "cell_type": "code",
   "execution_count": 35,
   "metadata": {},
   "outputs": [
    {
     "name": "stderr",
     "output_type": "stream",
     "text": [
      "C:\\Users\\Jason\\anaconda3\\envs\\dsi\\lib\\site-packages\\numpy\\lib\\histograms.py:839: RuntimeWarning: invalid value encountered in greater_equal\n",
      "  keep = (tmp_a >= first_edge)\n",
      "C:\\Users\\Jason\\anaconda3\\envs\\dsi\\lib\\site-packages\\numpy\\lib\\histograms.py:840: RuntimeWarning: invalid value encountered in less_equal\n",
      "  keep &= (tmp_a <= last_edge)\n"
     ]
    },
    {
     "data": {
      "image/png": "[encoded data removed]",
      "text/plain": [
       "<Figure size 432x288 with 1 Axes>"
      ]
     },
     "metadata": {
      "needs_background": "light"
     },
     "output_type": "display_data"
    }
   ],
   "source": [
    "plt.hist(data_me.ticket_price);\n",
    "plt.title('Original Distribution - Middle Earth')\n",
    "plt.ylabel('Count')\n",
    "plt.xlabel('Ticket Price');"
   ]
  },
  {
   "cell_type": "code",
   "execution_count": 36,
   "metadata": {
    "scrolled": false
   },
   "outputs": [],
   "source": [
    "# Split dataframes into high price point and low price point\n",
    "data_me_high = data_me.loc[data_me.ticket_price >= 1e7,:]\n",
    "data_me_low = data_me.loc[data_me.ticket_price < 1e7,:]"
   ]
  },
  {
   "cell_type": "code",
   "execution_count": 37,
   "metadata": {
    "scrolled": true
   },
   "outputs": [
    {
     "data": {
      "image/png": "[encoded data removed]",
      "text/plain": [
       "<Figure size 432x288 with 2 Axes>"
      ]
     },
     "metadata": {
      "needs_background": "light"
     },
     "output_type": "display_data"
    }
   ],
   "source": [
    "f, (ax1, ax2) = plt.subplots(1, 2);\n",
    "\n",
    "plt.suptitle('Split Ticket Price Distribution')\n",
    "f.text(0.5, 0, 'Ticket Price')\n",
    "\n",
    "ax1.hist(data_me_low.ticket_price);\n",
    "ax1.set_title('Low Price Distribution')\n",
    "ax1.set_ylabel('Count')\n",
    "\n",
    "ax2.hist(data_me_high.ticket_price);\n",
    "ax2.set_title('High Price Distribution');"
   ]
  },
  {
   "cell_type": "code",
   "execution_count": 38,
   "metadata": {},
   "outputs": [
    {
     "name": "stderr",
     "output_type": "stream",
     "text": [
      "C:\\Users\\Jason\\anaconda3\\envs\\dsi\\lib\\site-packages\\pandas\\core\\generic.py:5303: SettingWithCopyWarning: \n",
      "A value is trying to be set on a copy of a slice from a DataFrame.\n",
      "Try using .loc[row_indexer,col_indexer] = value instead\n",
      "\n",
      "See the caveats in the documentation: https://pandas.pydata.org/pandas-docs/stable/user_guide/indexing.html#returning-a-view-versus-a-copy\n",
      "  self[name] = value\n"
     ]
    }
   ],
   "source": [
    "# Adjusting high price outliers to overlap with original distribution.\n",
    "data_me.ticket_price = data_me.ticket_price.where(data_me.ticket_price < 1e7, \n",
    "                                                  data_me.ticket_price/(1e9))"
   ]
  },
  {
   "cell_type": "code",
   "execution_count": 39,
   "metadata": {
    "scrolled": true
   },
   "outputs": [
    {
     "data": {
      "text/html": [
       "<div>\n",
       "<style scoped>\n",
       "    .dataframe tbody tr th:only-of-type {\n",
       "        vertical-align: middle;\n",
       "    }\n",
       "\n",
       "    .dataframe tbody tr th {\n",
       "        vertical-align: top;\n",
       "    }\n",
       "\n",
       "    .dataframe thead th {\n",
       "        text-align: right;\n",
       "    }\n",
       "</style>\n",
       "<table border=\"1\" class=\"dataframe\">\n",
       "  <thead>\n",
       "    <tr style=\"text-align: right;\">\n",
       "      <th></th>\n",
       "      <th>ticket_price</th>\n",
       "      <th>avg_rating</th>\n",
       "    </tr>\n",
       "  </thead>\n",
       "  <tbody>\n",
       "    <tr>\n",
       "      <th>count</th>\n",
       "      <td>3462.000000</td>\n",
       "      <td>3498.000000</td>\n",
       "    </tr>\n",
       "    <tr>\n",
       "      <th>mean</th>\n",
       "      <td>0.041970</td>\n",
       "      <td>48.942134</td>\n",
       "    </tr>\n",
       "    <tr>\n",
       "      <th>std</th>\n",
       "      <td>0.002092</td>\n",
       "      <td>14.687657</td>\n",
       "    </tr>\n",
       "    <tr>\n",
       "      <th>min</th>\n",
       "      <td>0.034800</td>\n",
       "      <td>0.000000</td>\n",
       "    </tr>\n",
       "    <tr>\n",
       "      <th>25%</th>\n",
       "      <td>0.040600</td>\n",
       "      <td>38.940000</td>\n",
       "    </tr>\n",
       "    <tr>\n",
       "      <th>50%</th>\n",
       "      <td>0.042000</td>\n",
       "      <td>48.647000</td>\n",
       "    </tr>\n",
       "    <tr>\n",
       "      <th>75%</th>\n",
       "      <td>0.043400</td>\n",
       "      <td>59.000000</td>\n",
       "    </tr>\n",
       "    <tr>\n",
       "      <th>max</th>\n",
       "      <td>0.048800</td>\n",
       "      <td>100.000000</td>\n",
       "    </tr>\n",
       "  </tbody>\n",
       "</table>\n",
       "</div>"
      ],
      "text/plain": [
       "       ticket_price   avg_rating\n",
       "count   3462.000000  3498.000000\n",
       "mean       0.041970    48.942134\n",
       "std        0.002092    14.687657\n",
       "min        0.034800     0.000000\n",
       "25%        0.040600    38.940000\n",
       "50%        0.042000    48.647000\n",
       "75%        0.043400    59.000000\n",
       "max        0.048800   100.000000"
      ]
     },
     "execution_count": 39,
     "metadata": {},
     "output_type": "execute_result"
    }
   ],
   "source": [
    "data_me.describe()"
   ]
  },
  {
   "cell_type": "code",
   "execution_count": 40,
   "metadata": {},
   "outputs": [
    {
     "name": "stderr",
     "output_type": "stream",
     "text": [
      "C:\\Users\\Jason\\anaconda3\\envs\\dsi\\lib\\site-packages\\numpy\\lib\\histograms.py:839: RuntimeWarning: invalid value encountered in greater_equal\n",
      "  keep = (tmp_a >= first_edge)\n",
      "C:\\Users\\Jason\\anaconda3\\envs\\dsi\\lib\\site-packages\\numpy\\lib\\histograms.py:840: RuntimeWarning: invalid value encountered in less_equal\n",
      "  keep &= (tmp_a <= last_edge)\n"
     ]
    },
    {
     "data": {
      "image/png": "[encoded data removed]",
      "text/plain": [
       "<Figure size 432x288 with 1 Axes>"
      ]
     },
     "metadata": {
      "needs_background": "light"
     },
     "output_type": "display_data"
    }
   ],
   "source": [
    "plt.hist(data_me.ticket_price, color='Red');\n",
    "plt.title('Corrected Outliers Distribution - Middle Earth')\n",
    "plt.xlabel('Ticket Price')\n",
    "plt.ylabel('Count');"
   ]
  },
  {
   "cell_type": "code",
   "execution_count": 41,
   "metadata": {
    "scrolled": true
   },
   "outputs": [
    {
     "name": "stdout",
     "output_type": "stream",
     "text": [
      "142.77912068965514\n",
      "1.0008329141886134\n",
      "0.041975430908559666\n"
     ]
    }
   ],
   "source": [
    "# Mean for low data\n",
    "print(data_g_low.ticket_price.mean())\n",
    "print(data_h_low.ticket_price.mean())\n",
    "print(data_me_low.ticket_price.mean())"
   ]
  },
  {
   "cell_type": "code",
   "execution_count": 53,
   "metadata": {},
   "outputs": [
    {
     "name": "stdout",
     "output_type": "stream",
     "text": [
      "Genosha: 143.02870905432596\n",
      "Hyrule: 1.0006156707624951\n",
      "Middle Earth: 0.04196984402079717\n"
     ]
    }
   ],
   "source": [
    "# Mean for individual countries \n",
    "print(f'Genosha: {data_g.ticket_price.mean()}')\n",
    "print(f'Hyrule: {data_h.ticket_price.mean()}')\n",
    "print(f'Middle Earth: {data_me.ticket_price.mean()}')"
   ]
  },
  {
   "cell_type": "markdown",
   "metadata": {},
   "source": [
    "#### 3. Imputing Null Values with Mean"
   ]
  },
  {
   "cell_type": "code",
   "execution_count": 51,
   "metadata": {},
   "outputs": [
    {
     "data": {
      "text/plain": [
       "name             0\n",
       "country          0\n",
       "ticket_price    99\n",
       "avg_rating       0\n",
       "genre            0\n",
       "dtype: int64"
      ]
     },
     "execution_count": 51,
     "metadata": {},
     "output_type": "execute_result"
    }
   ],
   "source": [
    "data_combined.isnull().sum()"
   ]
  },
  {
   "cell_type": "code",
   "execution_count": 43,
   "metadata": {
    "scrolled": true
   },
   "outputs": [
    {
     "name": "stderr",
     "output_type": "stream",
     "text": [
      "C:\\Users\\Jason\\anaconda3\\envs\\dsi\\lib\\site-packages\\pandas\\core\\frame.py:4153: SettingWithCopyWarning: \n",
      "A value is trying to be set on a copy of a slice from a DataFrame\n",
      "\n",
      "See the caveats in the documentation: https://pandas.pydata.org/pandas-docs/stable/user_guide/indexing.html#returning-a-view-versus-a-copy\n",
      "  downcast=downcast,\n"
     ]
    }
   ],
   "source": [
    "# Fill nulls with country-specific mean values. \n",
    "data_g.fillna(data_g.ticket_price.mean(), inplace=True)\n",
    "data_h.fillna(data_h.ticket_price.mean(), inplace=True)\n",
    "data_me.fillna(data_me.ticket_price.mean(), inplace=True)"
   ]
  },
  {
   "cell_type": "code",
   "execution_count": 44,
   "metadata": {},
   "outputs": [
    {
     "data": {
      "text/plain": [
       "name            0\n",
       "country         0\n",
       "ticket_price    0\n",
       "avg_rating      0\n",
       "genre           0\n",
       "dtype: int64"
      ]
     },
     "execution_count": 44,
     "metadata": {},
     "output_type": "execute_result"
    }
   ],
   "source": [
    "data_g.isnull().sum()"
   ]
  },
  {
   "cell_type": "code",
   "execution_count": 45,
   "metadata": {
    "scrolled": true
   },
   "outputs": [
    {
     "data": {
      "text/plain": [
       "name            0\n",
       "country         0\n",
       "ticket_price    0\n",
       "avg_rating      0\n",
       "genre           0\n",
       "dtype: int64"
      ]
     },
     "execution_count": 45,
     "metadata": {},
     "output_type": "execute_result"
    }
   ],
   "source": [
    "data_h.isnull().sum()"
   ]
  },
  {
   "cell_type": "code",
   "execution_count": 46,
   "metadata": {},
   "outputs": [
    {
     "data": {
      "text/plain": [
       "name            0\n",
       "country         0\n",
       "ticket_price    0\n",
       "avg_rating      0\n",
       "genre           0\n",
       "dtype: int64"
      ]
     },
     "execution_count": 46,
     "metadata": {},
     "output_type": "execute_result"
    }
   ],
   "source": [
    "data_me.isnull().sum()"
   ]
  },
  {
   "cell_type": "code",
   "execution_count": 47,
   "metadata": {},
   "outputs": [],
   "source": [
    "# Concat individual country dataframes into singular df.\n",
    "data_combined_clean = pd.concat([data_g, data_h, data_me], join='outer')"
   ]
  },
  {
   "cell_type": "code",
   "execution_count": 48,
   "metadata": {},
   "outputs": [
    {
     "data": {
      "text/html": [
       "<div>\n",
       "<style scoped>\n",
       "    .dataframe tbody tr th:only-of-type {\n",
       "        vertical-align: middle;\n",
       "    }\n",
       "\n",
       "    .dataframe tbody tr th {\n",
       "        vertical-align: top;\n",
       "    }\n",
       "\n",
       "    .dataframe thead th {\n",
       "        text-align: right;\n",
       "    }\n",
       "</style>\n",
       "<table border=\"1\" class=\"dataframe\">\n",
       "  <thead>\n",
       "    <tr style=\"text-align: right;\">\n",
       "      <th></th>\n",
       "      <th>name</th>\n",
       "      <th>country</th>\n",
       "      <th>ticket_price</th>\n",
       "      <th>avg_rating</th>\n",
       "      <th>genre</th>\n",
       "    </tr>\n",
       "  </thead>\n",
       "  <tbody>\n",
       "    <tr>\n",
       "      <th>2332</th>\n",
       "      <td>jzcewwGkd</td>\n",
       "      <td>Hyrule</td>\n",
       "      <td>1.0350</td>\n",
       "      <td>55.7300</td>\n",
       "      <td>Mutations</td>\n",
       "    </tr>\n",
       "    <tr>\n",
       "      <th>1998</th>\n",
       "      <td>Gqy3jwQ3yj</td>\n",
       "      <td>Hyrule</td>\n",
       "      <td>0.7576</td>\n",
       "      <td>36.0000</td>\n",
       "      <td>Spells</td>\n",
       "    </tr>\n",
       "    <tr>\n",
       "      <th>700</th>\n",
       "      <td>S2XRc0Dx3</td>\n",
       "      <td>Middle_Earth</td>\n",
       "      <td>0.0400</td>\n",
       "      <td>66.9400</td>\n",
       "      <td>Potion_Making</td>\n",
       "    </tr>\n",
       "    <tr>\n",
       "      <th>2004</th>\n",
       "      <td>X2c0LWrztg</td>\n",
       "      <td>Hyrule</td>\n",
       "      <td>1.1358</td>\n",
       "      <td>58.1500</td>\n",
       "      <td>SwordSmithing</td>\n",
       "    </tr>\n",
       "    <tr>\n",
       "      <th>3001</th>\n",
       "      <td>iNfFfYdtgV</td>\n",
       "      <td>Middle_Earth</td>\n",
       "      <td>0.0382</td>\n",
       "      <td>65.9800</td>\n",
       "      <td>Spells</td>\n",
       "    </tr>\n",
       "    <tr>\n",
       "      <th>38</th>\n",
       "      <td>EsBilQzAzG</td>\n",
       "      <td>Middle_Earth</td>\n",
       "      <td>0.0382</td>\n",
       "      <td>52.0714</td>\n",
       "      <td>Spells</td>\n",
       "    </tr>\n",
       "    <tr>\n",
       "      <th>1393</th>\n",
       "      <td>cj2dpAlVh</td>\n",
       "      <td>Hyrule</td>\n",
       "      <td>1.0501</td>\n",
       "      <td>62.2814</td>\n",
       "      <td>Potion_Making</td>\n",
       "    </tr>\n",
       "    <tr>\n",
       "      <th>2289</th>\n",
       "      <td>HRQeiF8U8</td>\n",
       "      <td>Hyrule</td>\n",
       "      <td>0.9494</td>\n",
       "      <td>49.4900</td>\n",
       "      <td>Spells</td>\n",
       "    </tr>\n",
       "    <tr>\n",
       "      <th>1209</th>\n",
       "      <td>603HB8Y4t</td>\n",
       "      <td>Middle_Earth</td>\n",
       "      <td>0.0434</td>\n",
       "      <td>48.4600</td>\n",
       "      <td>Mutations</td>\n",
       "    </tr>\n",
       "    <tr>\n",
       "      <th>926</th>\n",
       "      <td>NW5MzKEjE</td>\n",
       "      <td>Hyrule</td>\n",
       "      <td>0.9791</td>\n",
       "      <td>34.0300</td>\n",
       "      <td>Spells</td>\n",
       "    </tr>\n",
       "  </tbody>\n",
       "</table>\n",
       "</div>"
      ],
      "text/plain": [
       "            name       country  ticket_price  avg_rating          genre\n",
       "2332   jzcewwGkd        Hyrule        1.0350     55.7300      Mutations\n",
       "1998  Gqy3jwQ3yj        Hyrule        0.7576     36.0000         Spells\n",
       "700    S2XRc0Dx3  Middle_Earth        0.0400     66.9400  Potion_Making\n",
       "2004  X2c0LWrztg        Hyrule        1.1358     58.1500  SwordSmithing\n",
       "3001  iNfFfYdtgV  Middle_Earth        0.0382     65.9800         Spells\n",
       "38    EsBilQzAzG  Middle_Earth        0.0382     52.0714         Spells\n",
       "1393   cj2dpAlVh        Hyrule        1.0501     62.2814  Potion_Making\n",
       "2289   HRQeiF8U8        Hyrule        0.9494     49.4900         Spells\n",
       "1209   603HB8Y4t  Middle_Earth        0.0434     48.4600      Mutations\n",
       "926    NW5MzKEjE        Hyrule        0.9791     34.0300         Spells"
      ]
     },
     "execution_count": 48,
     "metadata": {},
     "output_type": "execute_result"
    }
   ],
   "source": [
    "data_combined_clean.sample(10)"
   ]
  },
  {
   "cell_type": "code",
   "execution_count": 49,
   "metadata": {},
   "outputs": [
    {
     "data": {
      "text/html": [
       "<div>\n",
       "<style scoped>\n",
       "    .dataframe tbody tr th:only-of-type {\n",
       "        vertical-align: middle;\n",
       "    }\n",
       "\n",
       "    .dataframe tbody tr th {\n",
       "        vertical-align: top;\n",
       "    }\n",
       "\n",
       "    .dataframe thead th {\n",
       "        text-align: right;\n",
       "    }\n",
       "</style>\n",
       "<table border=\"1\" class=\"dataframe\">\n",
       "  <thead>\n",
       "    <tr style=\"text-align: right;\">\n",
       "      <th></th>\n",
       "      <th>ticket_price</th>\n",
       "      <th>avg_rating</th>\n",
       "    </tr>\n",
       "  </thead>\n",
       "  <tbody>\n",
       "    <tr>\n",
       "      <th>count</th>\n",
       "      <td>9999.000000</td>\n",
       "      <td>9999.000000</td>\n",
       "    </tr>\n",
       "    <tr>\n",
       "      <th>mean</th>\n",
       "      <td>7.738954</td>\n",
       "      <td>50.161476</td>\n",
       "    </tr>\n",
       "    <tr>\n",
       "      <th>std</th>\n",
       "      <td>31.641805</td>\n",
       "      <td>15.527353</td>\n",
       "    </tr>\n",
       "    <tr>\n",
       "      <th>min</th>\n",
       "      <td>0.034800</td>\n",
       "      <td>0.000000</td>\n",
       "    </tr>\n",
       "    <tr>\n",
       "      <th>25%</th>\n",
       "      <td>0.043100</td>\n",
       "      <td>39.652350</td>\n",
       "    </tr>\n",
       "    <tr>\n",
       "      <th>50%</th>\n",
       "      <td>0.935400</td>\n",
       "      <td>50.061300</td>\n",
       "    </tr>\n",
       "    <tr>\n",
       "      <th>75%</th>\n",
       "      <td>1.043000</td>\n",
       "      <td>60.686950</td>\n",
       "    </tr>\n",
       "    <tr>\n",
       "      <th>max</th>\n",
       "      <td>235.914200</td>\n",
       "      <td>100.000000</td>\n",
       "    </tr>\n",
       "  </tbody>\n",
       "</table>\n",
       "</div>"
      ],
      "text/plain": [
       "       ticket_price   avg_rating\n",
       "count   9999.000000  9999.000000\n",
       "mean       7.738954    50.161476\n",
       "std       31.641805    15.527353\n",
       "min        0.034800     0.000000\n",
       "25%        0.043100    39.652350\n",
       "50%        0.935400    50.061300\n",
       "75%        1.043000    60.686950\n",
       "max      235.914200   100.000000"
      ]
     },
     "execution_count": 49,
     "metadata": {},
     "output_type": "execute_result"
    }
   ],
   "source": [
    "data_combined_clean.describe()"
   ]
  },
  {
   "cell_type": "markdown",
   "metadata": {},
   "source": [
    "### Export to CSV"
   ]
  },
  {
   "cell_type": "code",
   "execution_count": 50,
   "metadata": {},
   "outputs": [],
   "source": [
    "data_g.to_csv('Data/data_genosha_clean')\n",
    "data_h.to_csv('Data/data_hyrule_clean')\n",
    "data_me.to_csv('Data/data_middle_earth_clean')\n",
    "\n",
    "data_combined_clean.to_csv('Data/data_combined_clean')"
   ]
  },
  {
   "cell_type": "markdown",
   "metadata": {},
   "source": [
    "### Alternate Way to Determine Outliers"
   ]
  },
  {
   "cell_type": "markdown",
   "metadata": {},
   "source": [
    "Worked through together with Alex, Katy, and Tim. Utilizes the median and 25% and 75% quartiles to identify outliers."
   ]
  },
  {
   "cell_type": "code",
   "execution_count": 18,
   "metadata": {},
   "outputs": [],
   "source": [
    "# Sourced from notebook 01. \n",
    "def groupby_country_genre_df(country_genre):\n",
    "    if (country_genre == 'Genosha') or (country_genre == 'Hyrule') or (country_genre == 'Middle_Earth'):\n",
    "        return data_combined.groupby(by='country').get_group(country_genre)\n",
    "    elif (country_genre == 'SwordSmithing') or (country_genre == 'Spells') or (country_genre == 'Mutations') or (country_genre == 'Potion_Making'):\n",
    "        return data_combined.groupby(by='genre').get_group(country_genre)\n",
    "    else:\n",
    "        return print('Check Spelling')"
   ]
  },
  {
   "cell_type": "code",
   "execution_count": 11,
   "metadata": {},
   "outputs": [
    {
     "data": {
      "text/html": [
       "<div>\n",
       "<style scoped>\n",
       "    .dataframe tbody tr th:only-of-type {\n",
       "        vertical-align: middle;\n",
       "    }\n",
       "\n",
       "    .dataframe tbody tr th {\n",
       "        vertical-align: top;\n",
       "    }\n",
       "\n",
       "    .dataframe thead th {\n",
       "        text-align: right;\n",
       "    }\n",
       "</style>\n",
       "<table border=\"1\" class=\"dataframe\">\n",
       "  <thead>\n",
       "    <tr style=\"text-align: right;\">\n",
       "      <th></th>\n",
       "      <th>ticket_price</th>\n",
       "      <th>avg_rating</th>\n",
       "    </tr>\n",
       "  </thead>\n",
       "  <tbody>\n",
       "    <tr>\n",
       "      <th>count</th>\n",
       "      <td>4.970000e+02</td>\n",
       "      <td>498.000000</td>\n",
       "    </tr>\n",
       "    <tr>\n",
       "      <th>mean</th>\n",
       "      <td>1.398716e+09</td>\n",
       "      <td>46.464360</td>\n",
       "    </tr>\n",
       "    <tr>\n",
       "      <th>std</th>\n",
       "      <td>1.556169e+10</td>\n",
       "      <td>19.837544</td>\n",
       "    </tr>\n",
       "    <tr>\n",
       "      <th>min</th>\n",
       "      <td>-2.132527e+02</td>\n",
       "      <td>0.000000</td>\n",
       "    </tr>\n",
       "    <tr>\n",
       "      <th>25%</th>\n",
       "      <td>1.204246e+02</td>\n",
       "      <td>33.050000</td>\n",
       "    </tr>\n",
       "    <tr>\n",
       "      <th>50%</th>\n",
       "      <td>1.421965e+02</td>\n",
       "      <td>45.707500</td>\n",
       "    </tr>\n",
       "    <tr>\n",
       "      <th>75%</th>\n",
       "      <td>1.613713e+02</td>\n",
       "      <td>59.640350</td>\n",
       "    </tr>\n",
       "    <tr>\n",
       "      <th>max</th>\n",
       "      <td>1.838831e+11</td>\n",
       "      <td>100.000000</td>\n",
       "    </tr>\n",
       "  </tbody>\n",
       "</table>\n",
       "</div>"
      ],
      "text/plain": [
       "       ticket_price  avg_rating\n",
       "count  4.970000e+02  498.000000\n",
       "mean   1.398716e+09   46.464360\n",
       "std    1.556169e+10   19.837544\n",
       "min   -2.132527e+02    0.000000\n",
       "25%    1.204246e+02   33.050000\n",
       "50%    1.421965e+02   45.707500\n",
       "75%    1.613713e+02   59.640350\n",
       "max    1.838831e+11  100.000000"
      ]
     },
     "execution_count": 11,
     "metadata": {},
     "output_type": "execute_result"
    }
   ],
   "source": [
    "z = groupby_country_genre_df('Genosha')\n",
    "z.describe()"
   ]
  },
  {
   "cell_type": "code",
   "execution_count": 22,
   "metadata": {},
   "outputs": [
    {
     "name": "stderr",
     "output_type": "stream",
     "text": [
      "C:\\Users\\Jason\\anaconda3\\envs\\dsi\\lib\\site-packages\\ipykernel_launcher.py:2: SettingWithCopyWarning: \n",
      "A value is trying to be set on a copy of a slice from a DataFrame.\n",
      "Try using .loc[row_indexer,col_indexer] = value instead\n",
      "\n",
      "See the caveats in the documentation: https://pandas.pydata.org/pandas-docs/stable/user_guide/indexing.html#returning-a-view-versus-a-copy\n",
      "  \n"
     ]
    }
   ],
   "source": [
    "# Distance from Median\n",
    "z['median_difference'] = z.ticket_price - z.ticket_price.median()"
   ]
  },
  {
   "cell_type": "code",
   "execution_count": 21,
   "metadata": {},
   "outputs": [
    {
     "name": "stderr",
     "output_type": "stream",
     "text": [
      "C:\\Users\\Jason\\anaconda3\\envs\\dsi\\lib\\site-packages\\ipykernel_launcher.py:1: SettingWithCopyWarning: \n",
      "A value is trying to be set on a copy of a slice from a DataFrame.\n",
      "Try using .loc[row_indexer,col_indexer] = value instead\n",
      "\n",
      "See the caveats in the documentation: https://pandas.pydata.org/pandas-docs/stable/user_guide/indexing.html#returning-a-view-versus-a-copy\n",
      "  \"\"\"Entry point for launching an IPython kernel.\n"
     ]
    }
   ],
   "source": [
    "# Identify distance from IQR (25/75)\n",
    "z['distance'] = z.median_difference / 39.077950000000016"
   ]
  },
  {
   "cell_type": "code",
   "execution_count": 15,
   "metadata": {},
   "outputs": [
    {
     "data": {
      "text/html": [
       "<div>\n",
       "<style scoped>\n",
       "    .dataframe tbody tr th:only-of-type {\n",
       "        vertical-align: middle;\n",
       "    }\n",
       "\n",
       "    .dataframe tbody tr th {\n",
       "        vertical-align: top;\n",
       "    }\n",
       "\n",
       "    .dataframe thead th {\n",
       "        text-align: right;\n",
       "    }\n",
       "</style>\n",
       "<table border=\"1\" class=\"dataframe\">\n",
       "  <thead>\n",
       "    <tr style=\"text-align: right;\">\n",
       "      <th></th>\n",
       "      <th>name</th>\n",
       "      <th>country</th>\n",
       "      <th>ticket_price</th>\n",
       "      <th>avg_rating</th>\n",
       "      <th>genre</th>\n",
       "      <th>median_difference</th>\n",
       "      <th>distance</th>\n",
       "    </tr>\n",
       "  </thead>\n",
       "  <tbody>\n",
       "    <tr>\n",
       "      <th>1160</th>\n",
       "      <td>d0ZNWI0CPF</td>\n",
       "      <td>Genosha</td>\n",
       "      <td>-2.132527e+02</td>\n",
       "      <td>84.9083</td>\n",
       "      <td>Spells</td>\n",
       "      <td>-3.554492e+02</td>\n",
       "      <td>-9.095902e+00</td>\n",
       "    </tr>\n",
       "    <tr>\n",
       "      <th>741</th>\n",
       "      <td>6OZDbQska</td>\n",
       "      <td>Genosha</td>\n",
       "      <td>-2.078951e+02</td>\n",
       "      <td>94.0000</td>\n",
       "      <td>Spells</td>\n",
       "      <td>-3.500916e+02</td>\n",
       "      <td>-8.958802e+00</td>\n",
       "    </tr>\n",
       "    <tr>\n",
       "      <th>87</th>\n",
       "      <td>i8VzxGvzL</td>\n",
       "      <td>Genosha</td>\n",
       "      <td>-1.710219e+02</td>\n",
       "      <td>70.7954</td>\n",
       "      <td>Potion_Making</td>\n",
       "      <td>-3.132184e+02</td>\n",
       "      <td>-8.015221e+00</td>\n",
       "    </tr>\n",
       "    <tr>\n",
       "      <th>58</th>\n",
       "      <td>A3eJTLaeM2</td>\n",
       "      <td>Genosha</td>\n",
       "      <td>-1.612311e+02</td>\n",
       "      <td>59.0000</td>\n",
       "      <td>Spells</td>\n",
       "      <td>-3.034276e+02</td>\n",
       "      <td>-7.764675e+00</td>\n",
       "    </tr>\n",
       "    <tr>\n",
       "      <th>3174</th>\n",
       "      <td>jIsUfd1UR</td>\n",
       "      <td>Genosha</td>\n",
       "      <td>-1.591786e+02</td>\n",
       "      <td>63.0000</td>\n",
       "      <td>Mutations</td>\n",
       "      <td>-3.013751e+02</td>\n",
       "      <td>-7.712152e+00</td>\n",
       "    </tr>\n",
       "    <tr>\n",
       "      <th>...</th>\n",
       "      <td>...</td>\n",
       "      <td>...</td>\n",
       "      <td>...</td>\n",
       "      <td>...</td>\n",
       "      <td>...</td>\n",
       "      <td>...</td>\n",
       "      <td>...</td>\n",
       "    </tr>\n",
       "    <tr>\n",
       "      <th>2166</th>\n",
       "      <td>kI0VQFKel</td>\n",
       "      <td>Genosha</td>\n",
       "      <td>1.649376e+11</td>\n",
       "      <td>61.6600</td>\n",
       "      <td>Spells</td>\n",
       "      <td>1.649376e+11</td>\n",
       "      <td>4.220733e+09</td>\n",
       "    </tr>\n",
       "    <tr>\n",
       "      <th>1828</th>\n",
       "      <td>lxxc94IvZ</td>\n",
       "      <td>Genosha</td>\n",
       "      <td>1.663422e+11</td>\n",
       "      <td>67.7100</td>\n",
       "      <td>SwordSmithing</td>\n",
       "      <td>1.663422e+11</td>\n",
       "      <td>4.256677e+09</td>\n",
       "    </tr>\n",
       "    <tr>\n",
       "      <th>2389</th>\n",
       "      <td>eadL40qYJ</td>\n",
       "      <td>Genosha</td>\n",
       "      <td>1.799990e+11</td>\n",
       "      <td>76.7512</td>\n",
       "      <td>Mutations</td>\n",
       "      <td>1.799990e+11</td>\n",
       "      <td>4.606153e+09</td>\n",
       "    </tr>\n",
       "    <tr>\n",
       "      <th>1513</th>\n",
       "      <td>f6dVqKVCM</td>\n",
       "      <td>Genosha</td>\n",
       "      <td>1.838831e+11</td>\n",
       "      <td>78.6900</td>\n",
       "      <td>Mutations</td>\n",
       "      <td>1.838831e+11</td>\n",
       "      <td>4.705546e+09</td>\n",
       "    </tr>\n",
       "    <tr>\n",
       "      <th>1544</th>\n",
       "      <td>hH7Cj2tnV</td>\n",
       "      <td>Genosha</td>\n",
       "      <td>NaN</td>\n",
       "      <td>55.1289</td>\n",
       "      <td>Spells</td>\n",
       "      <td>NaN</td>\n",
       "      <td>NaN</td>\n",
       "    </tr>\n",
       "  </tbody>\n",
       "</table>\n",
       "<p>498 rows × 7 columns</p>\n",
       "</div>"
      ],
      "text/plain": [
       "            name  country  ticket_price  avg_rating          genre  \\\n",
       "1160  d0ZNWI0CPF  Genosha -2.132527e+02     84.9083         Spells   \n",
       "741    6OZDbQska  Genosha -2.078951e+02     94.0000         Spells   \n",
       "87     i8VzxGvzL  Genosha -1.710219e+02     70.7954  Potion_Making   \n",
       "58    A3eJTLaeM2  Genosha -1.612311e+02     59.0000         Spells   \n",
       "3174   jIsUfd1UR  Genosha -1.591786e+02     63.0000      Mutations   \n",
       "...          ...      ...           ...         ...            ...   \n",
       "2166   kI0VQFKel  Genosha  1.649376e+11     61.6600         Spells   \n",
       "1828   lxxc94IvZ  Genosha  1.663422e+11     67.7100  SwordSmithing   \n",
       "2389   eadL40qYJ  Genosha  1.799990e+11     76.7512      Mutations   \n",
       "1513   f6dVqKVCM  Genosha  1.838831e+11     78.6900      Mutations   \n",
       "1544   hH7Cj2tnV  Genosha           NaN     55.1289         Spells   \n",
       "\n",
       "      median_difference      distance  \n",
       "1160      -3.554492e+02 -9.095902e+00  \n",
       "741       -3.500916e+02 -8.958802e+00  \n",
       "87        -3.132184e+02 -8.015221e+00  \n",
       "58        -3.034276e+02 -7.764675e+00  \n",
       "3174      -3.013751e+02 -7.712152e+00  \n",
       "...                 ...           ...  \n",
       "2166       1.649376e+11  4.220733e+09  \n",
       "1828       1.663422e+11  4.256677e+09  \n",
       "2389       1.799990e+11  4.606153e+09  \n",
       "1513       1.838831e+11  4.705546e+09  \n",
       "1544                NaN           NaN  \n",
       "\n",
       "[498 rows x 7 columns]"
      ]
     },
     "execution_count": 15,
     "metadata": {},
     "output_type": "execute_result"
    }
   ],
   "source": [
    "z.sort_values('distance')"
   ]
  },
  {
   "cell_type": "code",
   "execution_count": 23,
   "metadata": {},
   "outputs": [
    {
     "data": {
      "text/html": [
       "<div>\n",
       "<style scoped>\n",
       "    .dataframe tbody tr th:only-of-type {\n",
       "        vertical-align: middle;\n",
       "    }\n",
       "\n",
       "    .dataframe tbody tr th {\n",
       "        vertical-align: top;\n",
       "    }\n",
       "\n",
       "    .dataframe thead th {\n",
       "        text-align: right;\n",
       "    }\n",
       "</style>\n",
       "<table border=\"1\" class=\"dataframe\">\n",
       "  <thead>\n",
       "    <tr style=\"text-align: right;\">\n",
       "      <th></th>\n",
       "      <th>name</th>\n",
       "      <th>country</th>\n",
       "      <th>ticket_price</th>\n",
       "      <th>avg_rating</th>\n",
       "      <th>genre</th>\n",
       "      <th>median_difference</th>\n",
       "      <th>distance</th>\n",
       "    </tr>\n",
       "  </thead>\n",
       "  <tbody>\n",
       "    <tr>\n",
       "      <th>1160</th>\n",
       "      <td>d0ZNWI0CPF</td>\n",
       "      <td>Genosha</td>\n",
       "      <td>-2.132527e+02</td>\n",
       "      <td>84.9083</td>\n",
       "      <td>Spells</td>\n",
       "      <td>-3.554492e+02</td>\n",
       "      <td>-9.095902e+00</td>\n",
       "    </tr>\n",
       "    <tr>\n",
       "      <th>741</th>\n",
       "      <td>6OZDbQska</td>\n",
       "      <td>Genosha</td>\n",
       "      <td>-2.078951e+02</td>\n",
       "      <td>94.0000</td>\n",
       "      <td>Spells</td>\n",
       "      <td>-3.500916e+02</td>\n",
       "      <td>-8.958802e+00</td>\n",
       "    </tr>\n",
       "    <tr>\n",
       "      <th>87</th>\n",
       "      <td>i8VzxGvzL</td>\n",
       "      <td>Genosha</td>\n",
       "      <td>-1.710219e+02</td>\n",
       "      <td>70.7954</td>\n",
       "      <td>Potion_Making</td>\n",
       "      <td>-3.132184e+02</td>\n",
       "      <td>-8.015221e+00</td>\n",
       "    </tr>\n",
       "    <tr>\n",
       "      <th>58</th>\n",
       "      <td>A3eJTLaeM2</td>\n",
       "      <td>Genosha</td>\n",
       "      <td>-1.612311e+02</td>\n",
       "      <td>59.0000</td>\n",
       "      <td>Spells</td>\n",
       "      <td>-3.034276e+02</td>\n",
       "      <td>-7.764675e+00</td>\n",
       "    </tr>\n",
       "    <tr>\n",
       "      <th>3174</th>\n",
       "      <td>jIsUfd1UR</td>\n",
       "      <td>Genosha</td>\n",
       "      <td>-1.591786e+02</td>\n",
       "      <td>63.0000</td>\n",
       "      <td>Mutations</td>\n",
       "      <td>-3.013751e+02</td>\n",
       "      <td>-7.712152e+00</td>\n",
       "    </tr>\n",
       "    <tr>\n",
       "      <th>3258</th>\n",
       "      <td>s1xxwolRi</td>\n",
       "      <td>Genosha</td>\n",
       "      <td>-1.576664e+02</td>\n",
       "      <td>55.7200</td>\n",
       "      <td>Potion_Making</td>\n",
       "      <td>-2.998629e+02</td>\n",
       "      <td>-7.673455e+00</td>\n",
       "    </tr>\n",
       "    <tr>\n",
       "      <th>1183</th>\n",
       "      <td>V0NucamQ9w</td>\n",
       "      <td>Genosha</td>\n",
       "      <td>-1.484270e+02</td>\n",
       "      <td>45.5976</td>\n",
       "      <td>Mutations</td>\n",
       "      <td>-2.906235e+02</td>\n",
       "      <td>-7.437020e+00</td>\n",
       "    </tr>\n",
       "    <tr>\n",
       "      <th>334</th>\n",
       "      <td>0XaLuylcA</td>\n",
       "      <td>Genosha</td>\n",
       "      <td>-1.470482e+02</td>\n",
       "      <td>48.3100</td>\n",
       "      <td>Mutations</td>\n",
       "      <td>-2.892447e+02</td>\n",
       "      <td>-7.401737e+00</td>\n",
       "    </tr>\n",
       "    <tr>\n",
       "      <th>2897</th>\n",
       "      <td>Plq0GUu8r</td>\n",
       "      <td>Genosha</td>\n",
       "      <td>-1.434903e+02</td>\n",
       "      <td>52.2486</td>\n",
       "      <td>Mutations</td>\n",
       "      <td>-2.856868e+02</td>\n",
       "      <td>-7.310691e+00</td>\n",
       "    </tr>\n",
       "    <tr>\n",
       "      <th>1692</th>\n",
       "      <td>zn4mmBfbG</td>\n",
       "      <td>Genosha</td>\n",
       "      <td>-1.434563e+02</td>\n",
       "      <td>51.6300</td>\n",
       "      <td>Mutations</td>\n",
       "      <td>-2.856528e+02</td>\n",
       "      <td>-7.309820e+00</td>\n",
       "    </tr>\n",
       "    <tr>\n",
       "      <th>1936</th>\n",
       "      <td>LsyxKAgBG</td>\n",
       "      <td>Genosha</td>\n",
       "      <td>-1.402030e+02</td>\n",
       "      <td>49.9639</td>\n",
       "      <td>SwordSmithing</td>\n",
       "      <td>-2.823995e+02</td>\n",
       "      <td>-7.226569e+00</td>\n",
       "    </tr>\n",
       "    <tr>\n",
       "      <th>2273</th>\n",
       "      <td>N2QX7EymB</td>\n",
       "      <td>Genosha</td>\n",
       "      <td>-1.349872e+02</td>\n",
       "      <td>46.3000</td>\n",
       "      <td>Potion_Making</td>\n",
       "      <td>-2.771837e+02</td>\n",
       "      <td>-7.093097e+00</td>\n",
       "    </tr>\n",
       "    <tr>\n",
       "      <th>801</th>\n",
       "      <td>slEqA5rbB9</td>\n",
       "      <td>Genosha</td>\n",
       "      <td>-1.343187e+02</td>\n",
       "      <td>36.6200</td>\n",
       "      <td>Spells</td>\n",
       "      <td>-2.765152e+02</td>\n",
       "      <td>-7.075990e+00</td>\n",
       "    </tr>\n",
       "    <tr>\n",
       "      <th>1609</th>\n",
       "      <td>yaKx1iYNQ</td>\n",
       "      <td>Genosha</td>\n",
       "      <td>-1.333716e+02</td>\n",
       "      <td>45.6869</td>\n",
       "      <td>Mutations</td>\n",
       "      <td>-2.755681e+02</td>\n",
       "      <td>-7.051754e+00</td>\n",
       "    </tr>\n",
       "    <tr>\n",
       "      <th>169</th>\n",
       "      <td>yzjZJPbyQ</td>\n",
       "      <td>Genosha</td>\n",
       "      <td>-1.301731e+02</td>\n",
       "      <td>42.9383</td>\n",
       "      <td>SwordSmithing</td>\n",
       "      <td>-2.723696e+02</td>\n",
       "      <td>-6.969905e+00</td>\n",
       "    </tr>\n",
       "    <tr>\n",
       "      <th>42</th>\n",
       "      <td>MFsjIY22c8</td>\n",
       "      <td>Genosha</td>\n",
       "      <td>-1.286223e+02</td>\n",
       "      <td>33.4917</td>\n",
       "      <td>SwordSmithing</td>\n",
       "      <td>-2.708188e+02</td>\n",
       "      <td>-6.930220e+00</td>\n",
       "    </tr>\n",
       "    <tr>\n",
       "      <th>323</th>\n",
       "      <td>vYlh1XTIv1</td>\n",
       "      <td>Genosha</td>\n",
       "      <td>-1.186457e+02</td>\n",
       "      <td>27.3997</td>\n",
       "      <td>Spells</td>\n",
       "      <td>-2.608422e+02</td>\n",
       "      <td>-6.674920e+00</td>\n",
       "    </tr>\n",
       "    <tr>\n",
       "      <th>538</th>\n",
       "      <td>gbha7b5Ds</td>\n",
       "      <td>Genosha</td>\n",
       "      <td>-1.130025e+02</td>\n",
       "      <td>23.0239</td>\n",
       "      <td>Mutations</td>\n",
       "      <td>-2.551990e+02</td>\n",
       "      <td>-6.530511e+00</td>\n",
       "    </tr>\n",
       "    <tr>\n",
       "      <th>2782</th>\n",
       "      <td>YJwVTYkHPk</td>\n",
       "      <td>Genosha</td>\n",
       "      <td>-9.473430e+01</td>\n",
       "      <td>13.0733</td>\n",
       "      <td>SwordSmithing</td>\n",
       "      <td>-2.369308e+02</td>\n",
       "      <td>-6.063030e+00</td>\n",
       "    </tr>\n",
       "    <tr>\n",
       "      <th>712</th>\n",
       "      <td>yfW9pe3Sj</td>\n",
       "      <td>Genosha</td>\n",
       "      <td>-8.550760e+01</td>\n",
       "      <td>3.0000</td>\n",
       "      <td>Mutations</td>\n",
       "      <td>-2.277041e+02</td>\n",
       "      <td>-5.826920e+00</td>\n",
       "    </tr>\n",
       "    <tr>\n",
       "      <th>2166</th>\n",
       "      <td>kI0VQFKel</td>\n",
       "      <td>Genosha</td>\n",
       "      <td>1.649376e+11</td>\n",
       "      <td>61.6600</td>\n",
       "      <td>Spells</td>\n",
       "      <td>1.649376e+11</td>\n",
       "      <td>4.220733e+09</td>\n",
       "    </tr>\n",
       "    <tr>\n",
       "      <th>1828</th>\n",
       "      <td>lxxc94IvZ</td>\n",
       "      <td>Genosha</td>\n",
       "      <td>1.663422e+11</td>\n",
       "      <td>67.7100</td>\n",
       "      <td>SwordSmithing</td>\n",
       "      <td>1.663422e+11</td>\n",
       "      <td>4.256677e+09</td>\n",
       "    </tr>\n",
       "    <tr>\n",
       "      <th>2389</th>\n",
       "      <td>eadL40qYJ</td>\n",
       "      <td>Genosha</td>\n",
       "      <td>1.799990e+11</td>\n",
       "      <td>76.7512</td>\n",
       "      <td>Mutations</td>\n",
       "      <td>1.799990e+11</td>\n",
       "      <td>4.606153e+09</td>\n",
       "    </tr>\n",
       "    <tr>\n",
       "      <th>1513</th>\n",
       "      <td>f6dVqKVCM</td>\n",
       "      <td>Genosha</td>\n",
       "      <td>1.838831e+11</td>\n",
       "      <td>78.6900</td>\n",
       "      <td>Mutations</td>\n",
       "      <td>1.838831e+11</td>\n",
       "      <td>4.705546e+09</td>\n",
       "    </tr>\n",
       "  </tbody>\n",
       "</table>\n",
       "</div>"
      ],
      "text/plain": [
       "            name  country  ticket_price  avg_rating          genre  \\\n",
       "1160  d0ZNWI0CPF  Genosha -2.132527e+02     84.9083         Spells   \n",
       "741    6OZDbQska  Genosha -2.078951e+02     94.0000         Spells   \n",
       "87     i8VzxGvzL  Genosha -1.710219e+02     70.7954  Potion_Making   \n",
       "58    A3eJTLaeM2  Genosha -1.612311e+02     59.0000         Spells   \n",
       "3174   jIsUfd1UR  Genosha -1.591786e+02     63.0000      Mutations   \n",
       "3258   s1xxwolRi  Genosha -1.576664e+02     55.7200  Potion_Making   \n",
       "1183  V0NucamQ9w  Genosha -1.484270e+02     45.5976      Mutations   \n",
       "334    0XaLuylcA  Genosha -1.470482e+02     48.3100      Mutations   \n",
       "2897   Plq0GUu8r  Genosha -1.434903e+02     52.2486      Mutations   \n",
       "1692   zn4mmBfbG  Genosha -1.434563e+02     51.6300      Mutations   \n",
       "1936   LsyxKAgBG  Genosha -1.402030e+02     49.9639  SwordSmithing   \n",
       "2273   N2QX7EymB  Genosha -1.349872e+02     46.3000  Potion_Making   \n",
       "801   slEqA5rbB9  Genosha -1.343187e+02     36.6200         Spells   \n",
       "1609   yaKx1iYNQ  Genosha -1.333716e+02     45.6869      Mutations   \n",
       "169    yzjZJPbyQ  Genosha -1.301731e+02     42.9383  SwordSmithing   \n",
       "42    MFsjIY22c8  Genosha -1.286223e+02     33.4917  SwordSmithing   \n",
       "323   vYlh1XTIv1  Genosha -1.186457e+02     27.3997         Spells   \n",
       "538    gbha7b5Ds  Genosha -1.130025e+02     23.0239      Mutations   \n",
       "2782  YJwVTYkHPk  Genosha -9.473430e+01     13.0733  SwordSmithing   \n",
       "712    yfW9pe3Sj  Genosha -8.550760e+01      3.0000      Mutations   \n",
       "2166   kI0VQFKel  Genosha  1.649376e+11     61.6600         Spells   \n",
       "1828   lxxc94IvZ  Genosha  1.663422e+11     67.7100  SwordSmithing   \n",
       "2389   eadL40qYJ  Genosha  1.799990e+11     76.7512      Mutations   \n",
       "1513   f6dVqKVCM  Genosha  1.838831e+11     78.6900      Mutations   \n",
       "\n",
       "      median_difference      distance  \n",
       "1160      -3.554492e+02 -9.095902e+00  \n",
       "741       -3.500916e+02 -8.958802e+00  \n",
       "87        -3.132184e+02 -8.015221e+00  \n",
       "58        -3.034276e+02 -7.764675e+00  \n",
       "3174      -3.013751e+02 -7.712152e+00  \n",
       "3258      -2.998629e+02 -7.673455e+00  \n",
       "1183      -2.906235e+02 -7.437020e+00  \n",
       "334       -2.892447e+02 -7.401737e+00  \n",
       "2897      -2.856868e+02 -7.310691e+00  \n",
       "1692      -2.856528e+02 -7.309820e+00  \n",
       "1936      -2.823995e+02 -7.226569e+00  \n",
       "2273      -2.771837e+02 -7.093097e+00  \n",
       "801       -2.765152e+02 -7.075990e+00  \n",
       "1609      -2.755681e+02 -7.051754e+00  \n",
       "169       -2.723696e+02 -6.969905e+00  \n",
       "42        -2.708188e+02 -6.930220e+00  \n",
       "323       -2.608422e+02 -6.674920e+00  \n",
       "538       -2.551990e+02 -6.530511e+00  \n",
       "2782      -2.369308e+02 -6.063030e+00  \n",
       "712       -2.277041e+02 -5.826920e+00  \n",
       "2166       1.649376e+11  4.220733e+09  \n",
       "1828       1.663422e+11  4.256677e+09  \n",
       "2389       1.799990e+11  4.606153e+09  \n",
       "1513       1.838831e+11  4.705546e+09  "
      ]
     },
     "execution_count": 23,
     "metadata": {},
     "output_type": "execute_result"
    }
   ],
   "source": [
    "# Ticket prices with a distance of over 5 from IQR\n",
    "z_greater = z.loc[abs(z.distance) > 5,:]\n",
    "z_greater.sort_values('distance')"
   ]
  }
 ],
 "metadata": {
  "kernelspec": {
   "display_name": "Python 3",
   "language": "python",
   "name": "python3"
  },
  "language_info": {
   "codemirror_mode": {
    "name": "ipython",
    "version": 3
   },
   "file_extension": ".py",
   "mimetype": "text/x-python",
   "name": "python",
   "nbconvert_exporter": "python",
   "pygments_lexer": "ipython3",
   "version": "3.7.7"
  }
 },
 "nbformat": 4,
 "nbformat_minor": 4
}
