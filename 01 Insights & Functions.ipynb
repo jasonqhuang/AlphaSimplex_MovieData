{
 "cells": [
  {
   "cell_type": "markdown",
   "metadata": {},
   "source": [
    "# 01 Insights & Functions"
   ]
  },
  {
   "cell_type": "markdown",
   "metadata": {},
   "source": [
    "#### Imports"
   ]
  },
  {
   "cell_type": "code",
   "execution_count": 1,
   "metadata": {},
   "outputs": [],
   "source": [
    "import os\n",
    "import pandas as pd\n",
    "import numpy as np\n",
    "import matplotlib.pyplot as plt\n",
    "from sklearn.preprocessing import StandardScaler\n",
    "import seaborn as sns"
   ]
  },
  {
   "cell_type": "markdown",
   "metadata": {},
   "source": [
    "#### Read in Data from 00"
   ]
  },
  {
   "cell_type": "code",
   "execution_count": 2,
   "metadata": {},
   "outputs": [],
   "source": [
    "data = pd.read_csv('Data/data_combined_clean')\n",
    "data.drop(columns='Unnamed: 0', inplace=True)"
   ]
  },
  {
   "cell_type": "code",
   "execution_count": 3,
   "metadata": {
    "scrolled": true
   },
   "outputs": [
    {
     "data": {
      "text/html": [
       "<div>\n",
       "<style scoped>\n",
       "    .dataframe tbody tr th:only-of-type {\n",
       "        vertical-align: middle;\n",
       "    }\n",
       "\n",
       "    .dataframe tbody tr th {\n",
       "        vertical-align: top;\n",
       "    }\n",
       "\n",
       "    .dataframe thead th {\n",
       "        text-align: right;\n",
       "    }\n",
       "</style>\n",
       "<table border=\"1\" class=\"dataframe\">\n",
       "  <thead>\n",
       "    <tr style=\"text-align: right;\">\n",
       "      <th></th>\n",
       "      <th>name</th>\n",
       "      <th>country</th>\n",
       "      <th>ticket_price</th>\n",
       "      <th>avg_rating</th>\n",
       "      <th>genre</th>\n",
       "    </tr>\n",
       "  </thead>\n",
       "  <tbody>\n",
       "    <tr>\n",
       "      <th>0</th>\n",
       "      <td>DP8KXXHzBv</td>\n",
       "      <td>Genosha</td>\n",
       "      <td>85.2207</td>\n",
       "      <td>7.2537</td>\n",
       "      <td>SwordSmithing</td>\n",
       "    </tr>\n",
       "    <tr>\n",
       "      <th>1</th>\n",
       "      <td>xk8b9MocTE</td>\n",
       "      <td>Genosha</td>\n",
       "      <td>176.2547</td>\n",
       "      <td>62.8047</td>\n",
       "      <td>SwordSmithing</td>\n",
       "    </tr>\n",
       "    <tr>\n",
       "      <th>2</th>\n",
       "      <td>MFsjIY22c8</td>\n",
       "      <td>Genosha</td>\n",
       "      <td>128.6223</td>\n",
       "      <td>33.4917</td>\n",
       "      <td>SwordSmithing</td>\n",
       "    </tr>\n",
       "    <tr>\n",
       "      <th>3</th>\n",
       "      <td>DHjCkL3HCk</td>\n",
       "      <td>Genosha</td>\n",
       "      <td>138.1680</td>\n",
       "      <td>39.4100</td>\n",
       "      <td>Spells</td>\n",
       "    </tr>\n",
       "    <tr>\n",
       "      <th>4</th>\n",
       "      <td>ThpLWmUBkv</td>\n",
       "      <td>Genosha</td>\n",
       "      <td>175.4893</td>\n",
       "      <td>62.1337</td>\n",
       "      <td>SwordSmithing</td>\n",
       "    </tr>\n",
       "    <tr>\n",
       "      <th>...</th>\n",
       "      <td>...</td>\n",
       "      <td>...</td>\n",
       "      <td>...</td>\n",
       "      <td>...</td>\n",
       "      <td>...</td>\n",
       "    </tr>\n",
       "    <tr>\n",
       "      <th>9994</th>\n",
       "      <td>GHwRl0kPo</td>\n",
       "      <td>Middle_Earth</td>\n",
       "      <td>0.0420</td>\n",
       "      <td>59.5900</td>\n",
       "      <td>Mutations</td>\n",
       "    </tr>\n",
       "    <tr>\n",
       "      <th>9995</th>\n",
       "      <td>CiBtIO3Op</td>\n",
       "      <td>Middle_Earth</td>\n",
       "      <td>0.0442</td>\n",
       "      <td>54.1666</td>\n",
       "      <td>Mutations</td>\n",
       "    </tr>\n",
       "    <tr>\n",
       "      <th>9996</th>\n",
       "      <td>ohh27L5Dp</td>\n",
       "      <td>Middle_Earth</td>\n",
       "      <td>0.0383</td>\n",
       "      <td>62.0648</td>\n",
       "      <td>SwordSmithing</td>\n",
       "    </tr>\n",
       "    <tr>\n",
       "      <th>9997</th>\n",
       "      <td>7sQ9GAULR</td>\n",
       "      <td>Middle_Earth</td>\n",
       "      <td>0.0400</td>\n",
       "      <td>43.6547</td>\n",
       "      <td>Mutations</td>\n",
       "    </tr>\n",
       "    <tr>\n",
       "      <th>9998</th>\n",
       "      <td>kvGl6XnoF</td>\n",
       "      <td>Middle_Earth</td>\n",
       "      <td>0.0400</td>\n",
       "      <td>22.8600</td>\n",
       "      <td>Spells</td>\n",
       "    </tr>\n",
       "  </tbody>\n",
       "</table>\n",
       "<p>9999 rows × 5 columns</p>\n",
       "</div>"
      ],
      "text/plain": [
       "            name       country  ticket_price  avg_rating          genre\n",
       "0     DP8KXXHzBv       Genosha       85.2207      7.2537  SwordSmithing\n",
       "1     xk8b9MocTE       Genosha      176.2547     62.8047  SwordSmithing\n",
       "2     MFsjIY22c8       Genosha      128.6223     33.4917  SwordSmithing\n",
       "3     DHjCkL3HCk       Genosha      138.1680     39.4100         Spells\n",
       "4     ThpLWmUBkv       Genosha      175.4893     62.1337  SwordSmithing\n",
       "...          ...           ...           ...         ...            ...\n",
       "9994   GHwRl0kPo  Middle_Earth        0.0420     59.5900      Mutations\n",
       "9995   CiBtIO3Op  Middle_Earth        0.0442     54.1666      Mutations\n",
       "9996   ohh27L5Dp  Middle_Earth        0.0383     62.0648  SwordSmithing\n",
       "9997   7sQ9GAULR  Middle_Earth        0.0400     43.6547      Mutations\n",
       "9998   kvGl6XnoF  Middle_Earth        0.0400     22.8600         Spells\n",
       "\n",
       "[9999 rows x 5 columns]"
      ]
     },
     "execution_count": 3,
     "metadata": {},
     "output_type": "execute_result"
    }
   ],
   "source": [
    "data"
   ]
  },
  {
   "cell_type": "markdown",
   "metadata": {},
   "source": [
    "#### Average rating distributions per country"
   ]
  },
  {
   "cell_type": "code",
   "execution_count": 4,
   "metadata": {
    "scrolled": true
   },
   "outputs": [
    {
     "data": {
      "image/png": "[encoded data removed]",
      "text/plain": [
       "<Figure size 432x288 with 3 Axes>"
      ]
     },
     "metadata": {
      "needs_background": "light"
     },
     "output_type": "display_data"
    }
   ],
   "source": [
    "f, (ax1, ax2, ax3) = plt.subplots(1, 3)\n",
    "\n",
    "f.suptitle(f'Average Rating per Country', fontsize=16)\n",
    "\n",
    "ax1.hist(data.loc[data['country']=='Genosha', 'avg_rating'])\n",
    "ax1.set_xlabel('Genosha')\n",
    "ax1.set_ylabel('Count')\n",
    "\n",
    "ax2.hist(data.loc[data['country']=='Hyrule', 'avg_rating'])\n",
    "ax2.set_xlabel('Hyrule')\n",
    "\n",
    "ax3.hist(data.loc[data['country']=='Middle_Earth', 'avg_rating'])\n",
    "ax3.set_xlabel('Middle Earth');"
   ]
  },
  {
   "cell_type": "code",
   "execution_count": 5,
   "metadata": {},
   "outputs": [
    {
     "data": {
      "image/png": "[encoded data removed]",
      "text/plain": [
       "<Figure size 432x288 with 3 Axes>"
      ]
     },
     "metadata": {
      "needs_background": "light"
     },
     "output_type": "display_data"
    }
   ],
   "source": [
    "f, (ax1, ax2, ax3) = plt.subplots(1, 3, sharey=True)\n",
    "\n",
    "f.suptitle(f'Avg Rating per Country - Shared Y Axis', fontsize=16)\n",
    "\n",
    "ax1.hist(data.loc[data['country']=='Genosha', 'avg_rating'])\n",
    "ax1.set_xlabel('Genosha')\n",
    "ax1.set_ylabel('Count')\n",
    "\n",
    "ax2.hist(data.loc[data['country']=='Hyrule', 'avg_rating'])\n",
    "ax2.set_xlabel('Hyrule')\n",
    "\n",
    "ax3.hist(data.loc[data['country']=='Middle_Earth', 'avg_rating'])\n",
    "ax3.set_xlabel('Middle Earth');"
   ]
  },
  {
   "cell_type": "markdown",
   "metadata": {},
   "source": [
    "**Interesting how all the ratings are normally distributed per country.**"
   ]
  },
  {
   "cell_type": "markdown",
   "metadata": {},
   "source": [
    "#### Ticket Price per Genre"
   ]
  },
  {
   "cell_type": "code",
   "execution_count": 6,
   "metadata": {
    "scrolled": true
   },
   "outputs": [],
   "source": [
    "def ticket_price_genre_per_country(country):\n",
    "    f, (ax1, ax2, ax3, ax4) = plt.subplots(1, 4, sharey=True)\n",
    "    \n",
    "    f.suptitle(f'Ticket Price Per Genre - {country}', fontsize=16)\n",
    "    f.text(0.5, 0.02, 'Price', fontsize=12)\n",
    "    \n",
    "    ax1.hist(data.loc[(data.genre == 'SwordSmithing') & (data.country == country), 'ticket_price'], color='Orange')\n",
    "    ax1.set_title('SwordSmithing')\n",
    "    ax1.set_ylabel('Count', fontsize=12)\n",
    "\n",
    "    ax2.hist(data.loc[(data.genre == 'Spells') & (data.country == country), 'ticket_price'], color='Orange')\n",
    "    ax2.set_title('Spells')\n",
    "\n",
    "    ax3.hist(data.loc[(data.genre == 'Mutations') & (data.country == country), 'ticket_price'], color='Orange')\n",
    "    ax3.set_title('Mutations')\n",
    "\n",
    "    ax4.hist(data.loc[(data.genre == 'Potion_Making') & (data.country == country), 'ticket_price'], color='Orange')\n",
    "    ax4.set_title('Potion_Making');\n",
    "    \n",
    "    return"
   ]
  },
  {
   "cell_type": "code",
   "execution_count": 7,
   "metadata": {
    "scrolled": true
   },
   "outputs": [
    {
     "data": {
      "image/png": "[encoded data removed]",
      "text/plain": [
       "<Figure size 432x288 with 4 Axes>"
      ]
     },
     "metadata": {
      "needs_background": "light"
     },
     "output_type": "display_data"
    }
   ],
   "source": [
    "ticket_price_genre_per_country('Genosha')"
   ]
  },
  {
   "cell_type": "code",
   "execution_count": 8,
   "metadata": {
    "scrolled": true
   },
   "outputs": [
    {
     "data": {
      "image/png": "[encoded data removed]",
      "text/plain": [
       "<Figure size 432x288 with 4 Axes>"
      ]
     },
     "metadata": {
      "needs_background": "light"
     },
     "output_type": "display_data"
    }
   ],
   "source": [
    "ticket_price_genre_per_country('Hyrule')"
   ]
  },
  {
   "cell_type": "code",
   "execution_count": 9,
   "metadata": {},
   "outputs": [
    {
     "data": {
      "image/png": "[encoded data removed]",
      "text/plain": [
       "<Figure size 432x288 with 4 Axes>"
      ]
     },
     "metadata": {
      "needs_background": "light"
     },
     "output_type": "display_data"
    }
   ],
   "source": [
    "ticket_price_genre_per_country('Middle_Earth')"
   ]
  },
  {
   "cell_type": "markdown",
   "metadata": {},
   "source": [
    "#### Heatmap"
   ]
  },
  {
   "cell_type": "code",
   "execution_count": 10,
   "metadata": {},
   "outputs": [],
   "source": [
    "# Creating dummies for each categorical column for use in correlatoin matrix. \n",
    "data_dummies = data\n",
    "data_dummies = pd.get_dummies(data_dummies, columns=['country'], drop_first=False)\n",
    "data_dummies = pd.get_dummies(data_dummies, columns=['genre'], drop_first=False)\n",
    "data_dummies.drop(columns=['name'], inplace=True)"
   ]
  },
  {
   "cell_type": "code",
   "execution_count": 11,
   "metadata": {},
   "outputs": [],
   "source": [
    "# data_no_genosha = data_dummies\n",
    "# data_no_genosha.drop(columns=['country_Genosha'], inplace=True)"
   ]
  },
  {
   "cell_type": "code",
   "execution_count": 12,
   "metadata": {},
   "outputs": [
    {
     "data": {
      "image/png": "[encoded data removed]",
      "text/plain": [
       "<Figure size 576x720 with 2 Axes>"
      ]
     },
     "metadata": {
      "needs_background": "light"
     },
     "output_type": "display_data"
    }
   ],
   "source": [
    "#Ticket Price Correlation Heatmap\n",
    "plt.figure(figsize=(8, 10))\n",
    "plt.title('Ticket Price Correlation to Features', fontsize=16)\n",
    "sns.heatmap(data_dummies.corr()[['ticket_price']].sort_values('ticket_price', ascending=False),\n",
    "           annot=True,\n",
    "            cmap='magma',\n",
    "            annot_kws={'fontsize':15},\n",
    "            vmin=-1,\n",
    "            vmax=1\n",
    "           );"
   ]
  },
  {
   "cell_type": "markdown",
   "metadata": {},
   "source": [
    "**Genosha has high correlation because their currency is larger than the rest. Not significant**"
   ]
  },
  {
   "cell_type": "code",
   "execution_count": 13,
   "metadata": {
    "scrolled": false
   },
   "outputs": [
    {
     "data": {
      "image/png": "[encoded data removed]",
      "text/plain": [
       "<Figure size 576x720 with 2 Axes>"
      ]
     },
     "metadata": {
      "needs_background": "light"
     },
     "output_type": "display_data"
    }
   ],
   "source": [
    "# Average Rating Correlation Heatmap\n",
    "plt.figure(figsize=(8, 10))\n",
    "plt.title('Avg Rating Correlation to Features', fontsize=16)\n",
    "sns.heatmap(data_dummies.corr()[['avg_rating']].sort_values('avg_rating', ascending=False),\n",
    "           annot=True,\n",
    "            cmap='magma',\n",
    "            annot_kws={'fontsize':15},\n",
    "            vmin=-1,\n",
    "            vmax=1\n",
    "           );"
   ]
  },
  {
   "cell_type": "markdown",
   "metadata": {},
   "source": [
    "**No major significant correlation between average rating to other features.**"
   ]
  },
  {
   "cell_type": "markdown",
   "metadata": {},
   "source": [
    "## Functions for Querying"
   ]
  },
  {
   "cell_type": "markdown",
   "metadata": {},
   "source": [
    "#### Boxplot Function"
   ]
  },
  {
   "cell_type": "code",
   "execution_count": 24,
   "metadata": {},
   "outputs": [],
   "source": [
    "def boxplot_country(country, metric):\n",
    "    temp_df = data.groupby(by='country').get_group(country)\n",
    "    ax = sns.boxplot(x=temp_df[metric]).set_title(metric)\n",
    "    return ax"
   ]
  },
  {
   "cell_type": "code",
   "execution_count": 25,
   "metadata": {
    "scrolled": false
   },
   "outputs": [
    {
     "data": {
      "image/png": "[encoded data removed]",
      "text/plain": [
       "<Figure size 432x288 with 1 Axes>"
      ]
     },
     "metadata": {
      "needs_background": "light"
     },
     "output_type": "display_data"
    }
   ],
   "source": [
    "boxplot_country('Middle_Earth', 'ticket_price');"
   ]
  },
  {
   "cell_type": "code",
   "execution_count": 26,
   "metadata": {
    "scrolled": true
   },
   "outputs": [
    {
     "data": {
      "image/png": "[encoded data removed]",
      "text/plain": [
       "<Figure size 432x288 with 1 Axes>"
      ]
     },
     "metadata": {
      "needs_background": "light"
     },
     "output_type": "display_data"
    }
   ],
   "source": [
    "boxplot_country('Hyrule', 'avg_rating');"
   ]
  },
  {
   "cell_type": "markdown",
   "metadata": {},
   "source": [
    "#### Dataframe for Average Rating Ranges per Country"
   ]
  },
  {
   "cell_type": "code",
   "execution_count": 17,
   "metadata": {},
   "outputs": [],
   "source": [
    "def country_per_rating_df(rating, operator, country):\n",
    "    if operator == '>':\n",
    "        return data.loc[(data.avg_rating > rating)&(data.country == country), :]\n",
    "    elif operator == '>=':\n",
    "        return data.loc[(data.avg_rating >= rating)&(data.country == country), :]\n",
    "    elif operator == '<':\n",
    "        return data.loc[(data.avg_rating < rating)&(data.country == country), :]\n",
    "    elif operator == '<=':\n",
    "        return data.loc[(data.avg_rating <= rating)&(data.country == country), :]\n",
    "    else:\n",
    "        return print('Check Operator. Spelling must be '>', '>=', '<', or '<='')"
   ]
  },
  {
   "cell_type": "code",
   "execution_count": 18,
   "metadata": {},
   "outputs": [
    {
     "data": {
      "text/html": [
       "<div>\n",
       "<style scoped>\n",
       "    .dataframe tbody tr th:only-of-type {\n",
       "        vertical-align: middle;\n",
       "    }\n",
       "\n",
       "    .dataframe tbody tr th {\n",
       "        vertical-align: top;\n",
       "    }\n",
       "\n",
       "    .dataframe thead th {\n",
       "        text-align: right;\n",
       "    }\n",
       "</style>\n",
       "<table border=\"1\" class=\"dataframe\">\n",
       "  <thead>\n",
       "    <tr style=\"text-align: right;\">\n",
       "      <th></th>\n",
       "      <th>name</th>\n",
       "      <th>country</th>\n",
       "      <th>ticket_price</th>\n",
       "      <th>avg_rating</th>\n",
       "      <th>genre</th>\n",
       "    </tr>\n",
       "  </thead>\n",
       "  <tbody>\n",
       "    <tr>\n",
       "      <th>1</th>\n",
       "      <td>xk8b9MocTE</td>\n",
       "      <td>Genosha</td>\n",
       "      <td>176.2547</td>\n",
       "      <td>62.8047</td>\n",
       "      <td>SwordSmithing</td>\n",
       "    </tr>\n",
       "    <tr>\n",
       "      <th>4</th>\n",
       "      <td>ThpLWmUBkv</td>\n",
       "      <td>Genosha</td>\n",
       "      <td>175.4893</td>\n",
       "      <td>62.1337</td>\n",
       "      <td>SwordSmithing</td>\n",
       "    </tr>\n",
       "    <tr>\n",
       "      <th>9</th>\n",
       "      <td>HrSU41PPs7</td>\n",
       "      <td>Genosha</td>\n",
       "      <td>166.9742</td>\n",
       "      <td>56.9700</td>\n",
       "      <td>Mutations</td>\n",
       "    </tr>\n",
       "    <tr>\n",
       "      <th>10</th>\n",
       "      <td>IQGrNcwfD1</td>\n",
       "      <td>Genosha</td>\n",
       "      <td>173.0252</td>\n",
       "      <td>61.0000</td>\n",
       "      <td>Spells</td>\n",
       "    </tr>\n",
       "    <tr>\n",
       "      <th>11</th>\n",
       "      <td>Jo3AOCQT1w</td>\n",
       "      <td>Genosha</td>\n",
       "      <td>176.6632</td>\n",
       "      <td>63.1297</td>\n",
       "      <td>Mutations</td>\n",
       "    </tr>\n",
       "    <tr>\n",
       "      <th>...</th>\n",
       "      <td>...</td>\n",
       "      <td>...</td>\n",
       "      <td>...</td>\n",
       "      <td>...</td>\n",
       "      <td>...</td>\n",
       "    </tr>\n",
       "    <tr>\n",
       "      <th>491</th>\n",
       "      <td>5Filgaug69</td>\n",
       "      <td>Genosha</td>\n",
       "      <td>157.6355</td>\n",
       "      <td>56.5093</td>\n",
       "      <td>Spells</td>\n",
       "    </tr>\n",
       "    <tr>\n",
       "      <th>492</th>\n",
       "      <td>VQt8334ia</td>\n",
       "      <td>Genosha</td>\n",
       "      <td>159.0684</td>\n",
       "      <td>56.8655</td>\n",
       "      <td>SwordSmithing</td>\n",
       "    </tr>\n",
       "    <tr>\n",
       "      <th>494</th>\n",
       "      <td>iAebg1Wst</td>\n",
       "      <td>Genosha</td>\n",
       "      <td>155.5371</td>\n",
       "      <td>54.4200</td>\n",
       "      <td>Spells</td>\n",
       "    </tr>\n",
       "    <tr>\n",
       "      <th>495</th>\n",
       "      <td>s1xxwolRi</td>\n",
       "      <td>Genosha</td>\n",
       "      <td>157.6664</td>\n",
       "      <td>55.7200</td>\n",
       "      <td>Potion_Making</td>\n",
       "    </tr>\n",
       "    <tr>\n",
       "      <th>497</th>\n",
       "      <td>G6OInlu5F</td>\n",
       "      <td>Genosha</td>\n",
       "      <td>187.0604</td>\n",
       "      <td>77.8402</td>\n",
       "      <td>Spells</td>\n",
       "    </tr>\n",
       "  </tbody>\n",
       "</table>\n",
       "<p>216 rows × 5 columns</p>\n",
       "</div>"
      ],
      "text/plain": [
       "           name  country  ticket_price  avg_rating          genre\n",
       "1    xk8b9MocTE  Genosha      176.2547     62.8047  SwordSmithing\n",
       "4    ThpLWmUBkv  Genosha      175.4893     62.1337  SwordSmithing\n",
       "9    HrSU41PPs7  Genosha      166.9742     56.9700      Mutations\n",
       "10   IQGrNcwfD1  Genosha      173.0252     61.0000         Spells\n",
       "11   Jo3AOCQT1w  Genosha      176.6632     63.1297      Mutations\n",
       "..          ...      ...           ...         ...            ...\n",
       "491  5Filgaug69  Genosha      157.6355     56.5093         Spells\n",
       "492   VQt8334ia  Genosha      159.0684     56.8655  SwordSmithing\n",
       "494   iAebg1Wst  Genosha      155.5371     54.4200         Spells\n",
       "495   s1xxwolRi  Genosha      157.6664     55.7200  Potion_Making\n",
       "497   G6OInlu5F  Genosha      187.0604     77.8402         Spells\n",
       "\n",
       "[216 rows x 5 columns]"
      ]
     },
     "execution_count": 18,
     "metadata": {},
     "output_type": "execute_result"
    }
   ],
   "source": [
    "# Dataframe for Genosha movies that have \">=\" 50 rating. \n",
    "country_per_rating_df(50, '>=', 'Genosha')"
   ]
  },
  {
   "cell_type": "markdown",
   "metadata": {},
   "source": [
    "#### Dataframe for Genre per Country"
   ]
  },
  {
   "cell_type": "code",
   "execution_count": 19,
   "metadata": {},
   "outputs": [],
   "source": [
    "def groupby_country_genre_df(country_genre):\n",
    "    if (country_genre == 'Genosha') or (country_genre == 'Hyrule') or (country_genre == 'Middle_Earth'):\n",
    "        return data.groupby(by='country').get_group(country_genre)\n",
    "    elif (country_genre == 'SwordSmithing') or (country_genre == 'Spells') or (country_genre == 'Mutations') or (country_genre == 'Potion_Making'):\n",
    "        return data.groupby(by='genre').get_group(country_genre)\n",
    "    else:\n",
    "        return print('Check Spelling')"
   ]
  },
  {
   "cell_type": "code",
   "execution_count": 20,
   "metadata": {
    "scrolled": false
   },
   "outputs": [
    {
     "data": {
      "text/html": [
       "<div>\n",
       "<style scoped>\n",
       "    .dataframe tbody tr th:only-of-type {\n",
       "        vertical-align: middle;\n",
       "    }\n",
       "\n",
       "    .dataframe tbody tr th {\n",
       "        vertical-align: top;\n",
       "    }\n",
       "\n",
       "    .dataframe thead th {\n",
       "        text-align: right;\n",
       "    }\n",
       "</style>\n",
       "<table border=\"1\" class=\"dataframe\">\n",
       "  <thead>\n",
       "    <tr style=\"text-align: right;\">\n",
       "      <th></th>\n",
       "      <th>name</th>\n",
       "      <th>country</th>\n",
       "      <th>ticket_price</th>\n",
       "      <th>avg_rating</th>\n",
       "      <th>genre</th>\n",
       "    </tr>\n",
       "  </thead>\n",
       "  <tbody>\n",
       "    <tr>\n",
       "      <th>498</th>\n",
       "      <td>d19rpnckGv</td>\n",
       "      <td>Hyrule</td>\n",
       "      <td>1.0935</td>\n",
       "      <td>62.0000</td>\n",
       "      <td>SwordSmithing</td>\n",
       "    </tr>\n",
       "    <tr>\n",
       "      <th>499</th>\n",
       "      <td>KaWRtnToJC</td>\n",
       "      <td>Hyrule</td>\n",
       "      <td>0.7481</td>\n",
       "      <td>28.0000</td>\n",
       "      <td>SwordSmithing</td>\n",
       "    </tr>\n",
       "    <tr>\n",
       "      <th>500</th>\n",
       "      <td>sBRX9lLull</td>\n",
       "      <td>Hyrule</td>\n",
       "      <td>0.9455</td>\n",
       "      <td>57.3400</td>\n",
       "      <td>Spells</td>\n",
       "    </tr>\n",
       "    <tr>\n",
       "      <th>501</th>\n",
       "      <td>O7B9AjXpFt</td>\n",
       "      <td>Hyrule</td>\n",
       "      <td>0.9657</td>\n",
       "      <td>48.6407</td>\n",
       "      <td>SwordSmithing</td>\n",
       "    </tr>\n",
       "    <tr>\n",
       "      <th>502</th>\n",
       "      <td>1HpLXjq9Dz</td>\n",
       "      <td>Hyrule</td>\n",
       "      <td>0.9404</td>\n",
       "      <td>42.5596</td>\n",
       "      <td>SwordSmithing</td>\n",
       "    </tr>\n",
       "    <tr>\n",
       "      <th>...</th>\n",
       "      <td>...</td>\n",
       "      <td>...</td>\n",
       "      <td>...</td>\n",
       "      <td>...</td>\n",
       "      <td>...</td>\n",
       "    </tr>\n",
       "    <tr>\n",
       "      <th>6496</th>\n",
       "      <td>VKYFLLMCa</td>\n",
       "      <td>Hyrule</td>\n",
       "      <td>0.9951</td>\n",
       "      <td>42.6700</td>\n",
       "      <td>Mutations</td>\n",
       "    </tr>\n",
       "    <tr>\n",
       "      <th>6497</th>\n",
       "      <td>BXud2exyC</td>\n",
       "      <td>Hyrule</td>\n",
       "      <td>0.9163</td>\n",
       "      <td>46.1300</td>\n",
       "      <td>Spells</td>\n",
       "    </tr>\n",
       "    <tr>\n",
       "      <th>6498</th>\n",
       "      <td>Z1qfZ5oWC</td>\n",
       "      <td>Hyrule</td>\n",
       "      <td>1.0227</td>\n",
       "      <td>44.0000</td>\n",
       "      <td>Potion_Making</td>\n",
       "    </tr>\n",
       "    <tr>\n",
       "      <th>6499</th>\n",
       "      <td>f24B8j0ss</td>\n",
       "      <td>Hyrule</td>\n",
       "      <td>0.9642</td>\n",
       "      <td>69.5299</td>\n",
       "      <td>SwordSmithing</td>\n",
       "    </tr>\n",
       "    <tr>\n",
       "      <th>6500</th>\n",
       "      <td>GuHWFz1MB</td>\n",
       "      <td>Hyrule</td>\n",
       "      <td>1.0368</td>\n",
       "      <td>79.7148</td>\n",
       "      <td>Spells</td>\n",
       "    </tr>\n",
       "  </tbody>\n",
       "</table>\n",
       "<p>6003 rows × 5 columns</p>\n",
       "</div>"
      ],
      "text/plain": [
       "            name country  ticket_price  avg_rating          genre\n",
       "498   d19rpnckGv  Hyrule        1.0935     62.0000  SwordSmithing\n",
       "499   KaWRtnToJC  Hyrule        0.7481     28.0000  SwordSmithing\n",
       "500   sBRX9lLull  Hyrule        0.9455     57.3400         Spells\n",
       "501   O7B9AjXpFt  Hyrule        0.9657     48.6407  SwordSmithing\n",
       "502   1HpLXjq9Dz  Hyrule        0.9404     42.5596  SwordSmithing\n",
       "...          ...     ...           ...         ...            ...\n",
       "6496   VKYFLLMCa  Hyrule        0.9951     42.6700      Mutations\n",
       "6497   BXud2exyC  Hyrule        0.9163     46.1300         Spells\n",
       "6498   Z1qfZ5oWC  Hyrule        1.0227     44.0000  Potion_Making\n",
       "6499   f24B8j0ss  Hyrule        0.9642     69.5299  SwordSmithing\n",
       "6500   GuHWFz1MB  Hyrule        1.0368     79.7148         Spells\n",
       "\n",
       "[6003 rows x 5 columns]"
      ]
     },
     "execution_count": 20,
     "metadata": {},
     "output_type": "execute_result"
    }
   ],
   "source": [
    "groupby_country_genre_df('Hyrule')"
   ]
  },
  {
   "cell_type": "code",
   "execution_count": null,
   "metadata": {},
   "outputs": [],
   "source": []
  }
 ],
 "metadata": {
  "kernelspec": {
   "display_name": "Python 3",
   "language": "python",
   "name": "python3"
  },
  "language_info": {
   "codemirror_mode": {
    "name": "ipython",
    "version": 3
   },
   "file_extension": ".py",
   "mimetype": "text/x-python",
   "name": "python",
   "nbconvert_exporter": "python",
   "pygments_lexer": "ipython3",
   "version": "3.7.7"
  }
 },
 "nbformat": 4,
 "nbformat_minor": 4
}
